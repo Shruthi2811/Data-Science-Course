{
 "cells": [
  {
   "cell_type": "markdown",
   "metadata": {},
   "source": [
    "# W6 Lab Assignment\n",
    "\n",
    "Deep dive into Histogram and boxplot."
   ]
  },
  {
   "cell_type": "code",
   "execution_count": 1,
   "metadata": {
    "collapsed": true
   },
   "outputs": [],
   "source": [
    "import matplotlib.pyplot as plt\n",
    "import numpy as np\n",
    "import seaborn as sns\n",
    "import pandas as pd\n",
    "\n",
    "sns.set_style('white')\n",
    "\n",
    "%matplotlib inline "
   ]
  },
  {
   "cell_type": "markdown",
   "metadata": {},
   "source": [
    "# Histogram\n"
   ]
  },
  {
   "cell_type": "markdown",
   "metadata": {},
   "source": [
    "Let's revisit the table from the class\n",
    "\n",
    "| Hours | Frequency |\n",
    "|-------|-----------|\n",
    "| 0-1   | 4,300     |\n",
    "| 1-3   | 6,900     |\n",
    "| 3-5   | 4,900     |\n",
    "| 5-10  | 2,000     |\n",
    "| 10-24 | 2,100     |"
   ]
  },
  {
   "cell_type": "markdown",
   "metadata": {},
   "source": [
    "You can draw a histogram by just providing bins and counts instead of a list of numbers. So, let's do that for convenience. "
   ]
  },
  {
   "cell_type": "code",
   "execution_count": 2,
   "metadata": {
    "collapsed": false
   },
   "outputs": [],
   "source": [
    "bins = [0, 1, 3, 5, 10, 24]\n",
    "data = {0.5: 4300, 2: 6900, 4: 4900, 7: 2000, 15: 2100} "
   ]
  },
  {
   "cell_type": "markdown",
   "metadata": {},
   "source": [
    "Draw histogram using this data. Useful query: [Google search: matplotlib histogram pre-counted](https://www.google.com/search?client=safari&rls=en&q=matplotlib+histogram+already+counted&ie=UTF-8&oe=UTF-8#q=matplotlib+histogram+pre-counted)"
   ]
  },
  {
   "cell_type": "code",
   "execution_count": 3,
   "metadata": {
    "collapsed": false
   },
   "outputs": [
    {
     "data": {
      "text/plain": [
       "<matplotlib.text.Text at 0x7fd3f21d2390>"
      ]
     },
     "execution_count": 3,
     "metadata": {},
     "output_type": "execute_result"
    },
    {
     "data": {
      "image/png": "[encoded data removed]",
      "text/plain": [
       "<matplotlib.figure.Figure at 0x7fd3f21af780>"
      ]
     },
     "metadata": {},
     "output_type": "display_data"
    }
   ],
   "source": [
    "# TODO: draw a histogram with pre-counted data. \n",
    "#plt.xlabel(\"Hours\")\n",
    "val, weight = zip(*[(k, v) for k,v in data.items()])\n",
    "plt.hist(val, weights=weight, bins = bins)\n",
    "plt.xlabel(\"Hours\")"
   ]
  },
  {
   "cell_type": "markdown",
   "metadata": {},
   "source": [
    "As you can see, the **default histogram does not normalize with binwidth and simply shows the counts**! This can be very misleading if you are working with variable bin width. One simple way to fix this is using the option [`normed`](http://matplotlib.org/api/pyplot_api.html#matplotlib.pyplot.hist). "
   ]
  },
  {
   "cell_type": "code",
   "execution_count": 4,
   "metadata": {
    "collapsed": false
   },
   "outputs": [
    {
     "data": {
      "text/plain": [
       "(array([ 0.21287129,  0.17079208,  0.12128713,  0.01980198,  0.00742574]),\n",
       " array([ 0,  1,  3,  5, 10, 24]),\n",
       " <a list of 5 Patch objects>)"
      ]
     },
     "execution_count": 4,
     "metadata": {},
     "output_type": "execute_result"
    },
    {
     "data": {
      "image/png": "[encoded data removed]",
      "text/plain": [
       "<matplotlib.figure.Figure at 0x7fd402d3c7b8>"
      ]
     },
     "metadata": {},
     "output_type": "display_data"
    }
   ],
   "source": [
    "# TODO: fix it with normed option. \n",
    "plt.hist(val, weights=weight, bins = bins, normed = True)"
   ]
  },
  {
   "cell_type": "markdown",
   "metadata": {},
   "source": [
    "## IMDB data"
   ]
  },
  {
   "cell_type": "markdown",
   "metadata": {},
   "source": [
    "How does matplotlib decide the bin width? Let's try with the IMDb data."
   ]
  },
  {
   "cell_type": "code",
   "execution_count": 5,
   "metadata": {
    "collapsed": false
   },
   "outputs": [
    {
     "data": {
      "text/html": [
       "<div style=\"max-height:1000px;max-width:1500px;overflow:auto;\">\n",
       "<table border=\"1\" class=\"dataframe\">\n",
       "  <thead>\n",
       "    <tr style=\"text-align: right;\">\n",
       "      <th></th>\n",
       "      <th>Title</th>\n",
       "      <th>Year</th>\n",
       "      <th>Rating</th>\n",
       "      <th>Votes</th>\n",
       "    </tr>\n",
       "  </thead>\n",
       "  <tbody>\n",
       "    <tr>\n",
       "      <th>0</th>\n",
       "      <td>      !Next?</td>\n",
       "      <td> 1994</td>\n",
       "      <td> 5.4</td>\n",
       "      <td>  5</td>\n",
       "    </tr>\n",
       "    <tr>\n",
       "      <th>1</th>\n",
       "      <td>   #1 Single</td>\n",
       "      <td> 2006</td>\n",
       "      <td> 6.1</td>\n",
       "      <td> 61</td>\n",
       "    </tr>\n",
       "    <tr>\n",
       "      <th>2</th>\n",
       "      <td> #7DaysLater</td>\n",
       "      <td> 2013</td>\n",
       "      <td> 7.1</td>\n",
       "      <td> 14</td>\n",
       "    </tr>\n",
       "    <tr>\n",
       "      <th>3</th>\n",
       "      <td>  #Bikerlive</td>\n",
       "      <td> 2014</td>\n",
       "      <td> 6.8</td>\n",
       "      <td> 11</td>\n",
       "    </tr>\n",
       "    <tr>\n",
       "      <th>4</th>\n",
       "      <td>   #ByMySide</td>\n",
       "      <td> 2012</td>\n",
       "      <td> 5.5</td>\n",
       "      <td> 13</td>\n",
       "    </tr>\n",
       "  </tbody>\n",
       "</table>\n",
       "</div>"
      ],
      "text/plain": [
       "         Title  Year  Rating  Votes\n",
       "0       !Next?  1994     5.4      5\n",
       "1    #1 Single  2006     6.1     61\n",
       "2  #7DaysLater  2013     7.1     14\n",
       "3   #Bikerlive  2014     6.8     11\n",
       "4    #ByMySide  2012     5.5     13"
      ]
     },
     "execution_count": 5,
     "metadata": {},
     "output_type": "execute_result"
    }
   ],
   "source": [
    "# TODO: Load IMDB data into movie_df using pandas\n",
    "movie_df = pd.read_csv('imdb.csv', delimiter='\\t')\n",
    "movie_df.head()"
   ]
  },
  {
   "cell_type": "markdown",
   "metadata": {},
   "source": [
    "Plot the histogram of movie ratings using the `plt.hist()` function."
   ]
  },
  {
   "cell_type": "code",
   "execution_count": 6,
   "metadata": {
    "collapsed": false
   },
   "outputs": [
    {
     "data": {
      "text/plain": [
       "(array([   824.,   3363.,   9505.,  21207.,  42500.,  69391.,  86470.,\n",
       "         58059.,  21538.,    154.]),\n",
       " array([ 1.  ,  1.89,  2.78,  3.67,  4.56,  5.45,  6.34,  7.23,  8.12,\n",
       "         9.01,  9.9 ]),\n",
       " <a list of 10 Patch objects>)"
      ]
     },
     "execution_count": 6,
     "metadata": {},
     "output_type": "execute_result"
    },
    {
     "data": {
      "image/png": "[encoded data removed]",
      "text/plain": [
       "<matplotlib.figure.Figure at 0x7fd3ec117da0>"
      ]
     },
     "metadata": {},
     "output_type": "display_data"
    }
   ],
   "source": [
    "plt.hist(movie_df['Rating'])"
   ]
  },
  {
   "cell_type": "markdown",
   "metadata": {},
   "source": [
    "Have you noticed that this function returns three objects? Take a look at the documentation [here](http://matplotlib.org/api/pyplot_api.html#matplotlib.pyplot.hist) to figure out what they are.\n",
    "\n",
    "To get the returned three objects:"
   ]
  },
  {
   "cell_type": "code",
   "execution_count": 7,
   "metadata": {
    "collapsed": false,
    "scrolled": true
   },
   "outputs": [
    {
     "name": "stdout",
     "output_type": "stream",
     "text": [
      "[   824.   3363.   9505.  21207.  42500.  69391.  86470.  58059.  21538.\n",
      "    154.]\n",
      "[ 1.    1.89  2.78  3.67  4.56  5.45  6.34  7.23  8.12  9.01  9.9 ]\n"
     ]
    },
    {
     "data": {
      "image/png": "[encoded data removed]",
      "text/plain": [
       "<matplotlib.figure.Figure at 0x7fd3ee590f60>"
      ]
     },
     "metadata": {},
     "output_type": "display_data"
    }
   ],
   "source": [
    "n_raw, bins_raw, patches = plt.hist(movie_df['Rating'])\n",
    "print(n_raw)\n",
    "print(bins_raw)"
   ]
  },
  {
   "cell_type": "markdown",
   "metadata": {},
   "source": [
    "Actually, `n_raw` contains the values of histograms, i.e., the number of movies in each of the 10 bins. Thus, the sum of the elements in `n_raw` should be equal to the total number of movies:"
   ]
  },
  {
   "cell_type": "code",
   "execution_count": 8,
   "metadata": {
    "collapsed": false
   },
   "outputs": [
    {
     "data": {
      "text/plain": [
       "True"
      ]
     },
     "execution_count": 8,
     "metadata": {},
     "output_type": "execute_result"
    }
   ],
   "source": [
    "# TODO: test whether the sum of the numbers in n_raw is equal to the number of movies. \n",
    "sum(n_raw)==len(movie_df)"
   ]
  },
  {
   "cell_type": "markdown",
   "metadata": {},
   "source": [
    "The second returned object (`bins_raw`) is a list containing the edges of the 10 bins: the first bin is \\[1.0,1.89\\], the second \\[1.89,2.78\\], and so on. We can calculate the width of each bin."
   ]
  },
  {
   "cell_type": "code",
   "execution_count": 9,
   "metadata": {
    "collapsed": false
   },
   "outputs": [
    {
     "name": "stdout",
     "output_type": "stream",
     "text": [
      "0.89\n",
      "0.89\n",
      "0.89\n",
      "0.89\n",
      "0.89\n",
      "0.89\n",
      "0.89\n",
      "0.89\n",
      "0.89\n",
      "0.89\n"
     ]
    }
   ],
   "source": [
    "# TODO: calculate the width of each bin and print them. \n",
    "for i in range(len(bins_raw)-1):\n",
    "    print (bins_raw[i+1] - bins_raw[i])"
   ]
  },
  {
   "cell_type": "markdown",
   "metadata": {},
   "source": [
    "The above `for` loop can be conveniently rewritten as the following, using [list comprehension](https://docs.python.org/2/tutorial/datastructures.html#list-comprehensions) and the [**`zip()`**](https://docs.python.org/3/library/functions.html#zip) function. Can you explain what's going on inside the zip?"
   ]
  },
  {
   "cell_type": "code",
   "execution_count": 10,
   "metadata": {
    "collapsed": false,
    "scrolled": true
   },
   "outputs": [
    {
     "data": {
      "text/plain": [
       "[0.89000000000000012,\n",
       " 0.89000000000000012,\n",
       " 0.88999999999999968,\n",
       " 0.89000000000000057,\n",
       " 0.88999999999999968,\n",
       " 0.88999999999999968,\n",
       " 0.89000000000000057,\n",
       " 0.89000000000000057,\n",
       " 0.88999999999999879,\n",
       " 0.89000000000000057]"
      ]
     },
     "execution_count": 10,
     "metadata": {},
     "output_type": "execute_result"
    }
   ],
   "source": [
    "[ j-i for i,j in zip(bins_raw[:-1],bins_raw[1:]) ]"
   ]
  },
  {
   "cell_type": "raw",
   "metadata": {},
   "source": [
    "Make an iterator that aggregates elements from each of the iterables.\n",
    "\n",
    "Returns an iterator of tuples, where the i-th tuple contains the i-th element from each of the argument sequences or iterables. The iterator stops when the shortest input iterable is exhausted.\n",
    "\n",
    "Basically, the zip function combines the sequences."
   ]
  },
  {
   "cell_type": "markdown",
   "metadata": {},
   "source": [
    "Noticed that the width of each bin is the same? This is equal-width binning. We can calculate the width as:"
   ]
  },
  {
   "cell_type": "code",
   "execution_count": 11,
   "metadata": {
    "collapsed": false
   },
   "outputs": [
    {
     "name": "stdout",
     "output_type": "stream",
     "text": [
      "1.0 9.9\n",
      "0.89\n"
     ]
    }
   ],
   "source": [
    "min_rating = min(movie_df['Rating'])\n",
    "max_rating = max(movie_df['Rating'])\n",
    "print(min_rating, max_rating)\n",
    "print( (max_rating-min_rating) / 10 )"
   ]
  },
  {
   "cell_type": "markdown",
   "metadata": {},
   "source": [
    "Now, let's plot the histogram where the y axis is normed."
   ]
  },
  {
   "cell_type": "code",
   "execution_count": 12,
   "metadata": {
    "collapsed": false
   },
   "outputs": [
    {
     "name": "stdout",
     "output_type": "stream",
     "text": [
      "[ 0.00295786  0.01207195  0.03411949  0.07612541  0.15255952  0.24908842\n",
      "  0.31039581  0.20841067  0.07731358  0.0005528 ]\n",
      "[ 1.    1.89  2.78  3.67  4.56  5.45  6.34  7.23  8.12  9.01  9.9 ]\n"
     ]
    },
    {
     "data": {
      "image/png": "[encoded data removed]",
      "text/plain": [
       "<matplotlib.figure.Figure at 0x7fd3ee5880b8>"
      ]
     },
     "metadata": {},
     "output_type": "display_data"
    }
   ],
   "source": [
    "n, bins, patches = plt.hist(movie_df['Rating'], normed=True)\n",
    "print(n)\n",
    "print(bins)"
   ]
  },
  {
   "cell_type": "markdown",
   "metadata": {},
   "source": [
    "In this case, the edges of the 10 bins do not change. But now `n` represents the heights of the bins. Can you verify that matplotlib has correctly normed the heights of the bins?\n",
    "\n",
    "Hint: the area of each bin should be equal to the fraction of movies in that bin."
   ]
  },
  {
   "cell_type": "code",
   "execution_count": 13,
   "metadata": {
    "collapsed": false
   },
   "outputs": [
    {
     "name": "stdout",
     "output_type": "stream",
     "text": [
      "Bin widths [0.0026, 0.0107, 0.0304, 0.0678, 0.1358, 0.2217, 0.2763, 0.1855, 0.0688, 0.0005]\n",
      "Data from histogram [ 0.00295786  0.01207195  0.03411949  0.07612541  0.15255952  0.24908842\n",
      "  0.31039581  0.20841067  0.07731358  0.0005528 ]\n"
     ]
    }
   ],
   "source": [
    "# TODO: verify that it is properly normalized. \n",
    "normalizeList = []\n",
    "for i in range(len(bins)):\n",
    "    try:\n",
    "        Moviesbins = movie_df[(movie_df['Rating'] >= bins[i]) & (movie_df['Rating'] <= bins[i+1])]\n",
    "        normalizeList.append(round(len(Moviesbins)/len(movie_df), 4))\n",
    "    except IndexError:\n",
    "        pass\n",
    "print(\"Bin widths\", normalizeList)\n",
    "print(\"Data from histogram\", n)"
   ]
  },
  {
   "cell_type": "markdown",
   "metadata": {},
   "source": [
    "## Selecting binsize"
   ]
  },
  {
   "cell_type": "markdown",
   "metadata": {},
   "source": [
    "A nice to way to explore this is using the \"[small multiples](https://www.google.com/search?client=safari&rls=en&q=small+multiples&ie=UTF-8&oe=UTF-8)\" with a set of sample bin sizes. In other words, pick some binsizes that you want to see and draw many plots within a single \"figure\". Read about [subplot](https://www.google.com/search?client=safari&rls=en&q=matplotlib+subplot&ie=UTF-8&oe=UTF-8). For instance, you can do something like:"
   ]
  },
  {
   "cell_type": "code",
   "execution_count": 14,
   "metadata": {
    "collapsed": false
   },
   "outputs": [
    {
     "data": {
      "text/plain": [
       "<matplotlib.axes._subplots.AxesSubplot at 0x7fd3ee5402e8>"
      ]
     },
     "execution_count": 14,
     "metadata": {},
     "output_type": "execute_result"
    },
    {
     "data": {
      "image/png": "[encoded data removed]",
      "text/plain": [
       "<matplotlib.figure.Figure at 0x7fd3ee5fbba8>"
      ]
     },
     "metadata": {},
     "output_type": "display_data"
    }
   ],
   "source": [
    "plt.figure(figsize=(10,5))\n",
    "plt.subplot(1,2,1)\n",
    "movie_df['Rating'].hist(bins=3)\n",
    "plt.subplot(1,2,2)\n",
    "movie_df['Rating'].hist(bins=100)"
   ]
  },
  {
   "cell_type": "markdown",
   "metadata": {},
   "source": [
    "What does the argument in `plt.subplot(1,2,1)` mean?  \n",
    "http://stackoverflow.com/questions/3584805/in-matplotlib-what-does-the-argument-mean-in-fig-add-subplot111\n",
    "\n",
    "Ok, so create 8 subplots (2 rows and 4 columns) with the given `binsizes`. "
   ]
  },
  {
   "cell_type": "code",
   "execution_count": 15,
   "metadata": {
    "collapsed": false
   },
   "outputs": [
    {
     "data": {
      "image/png": "[encoded data removed]",
      "text/plain": [
       "<matplotlib.figure.Figure at 0x7fd3ee09e208>"
      ]
     },
     "metadata": {},
     "output_type": "display_data"
    }
   ],
   "source": [
    "binsizes = [2, 3, 5, 10, 30, 40, 60, 100 ]\n",
    "\n",
    "plt.figure(1, figsize=(18,8))\n",
    "\n",
    "for i, bins in enumerate(binsizes):     \n",
    "    # TODO: use subplot and hist() function to draw 8 plots\n",
    "    plt.subplot(2, 4, i + 1)\n",
    "    movie_df['Rating'].hist(bins = bins)\n",
    "    plt.title(\"Bin size \" + str(bins))"
   ]
  },
  {
   "cell_type": "markdown",
   "metadata": {},
   "source": [
    "Do you notice weird patterns that emerge from `bins=40`? Can you guess why do you see such patterns? What are the peaks and what are the empty bars? What do they tell you about choosing the binsize in histograms?"
   ]
  },
  {
   "cell_type": "raw",
   "metadata": {
    "collapsed": true
   },
   "source": [
    "# TODO: Provide your answer and evidence here\n",
    "The weird patterns are result of increase in number of bins and decrease in bins width.\n",
    "The peaks in the graph represents frequency of data of that particular bin and the empty bars shows that there is zero data for that particular bin.\n",
    "They tell us that correct bin size is important in histogram to avoid misinterpretation of the data. To choose correct or optimal bin size we can choose either of following formula:\n",
    "1. k = square root(n)\n",
    "2. Sturge's Formula: [log2(n) + 1]\n",
    "3. Freedman-Diaconis' choice: 2*(IQR(x)/cube_root(n))\n"
   ]
  },
  {
   "cell_type": "markdown",
   "metadata": {},
   "source": [
    "Now, let's try to apply several algorithms for finding the number of bins. "
   ]
  },
  {
   "cell_type": "code",
   "execution_count": 16,
   "metadata": {
    "collapsed": false
   },
   "outputs": [
    {
     "data": {
      "text/plain": [
       "<matplotlib.text.Text at 0x7fd3ec569be0>"
      ]
     },
     "execution_count": 16,
     "metadata": {},
     "output_type": "execute_result"
    },
    {
     "data": {
      "image/png": "[encoded data removed]",
      "text/plain": [
       "<matplotlib.figure.Figure at 0x7fd3eade2a20>"
      ]
     },
     "metadata": {},
     "output_type": "display_data"
    }
   ],
   "source": [
    "N = len(movie_df['Rating'])\n",
    "\n",
    "# TODO: plot three histograms based on three formulae\n",
    "\n",
    "plt.figure(figsize=(12,4))\n",
    "\n",
    "\n",
    "# Sqrt \n",
    "nbins = int(np.sqrt(N))\n",
    "\n",
    "plt.subplot(1,3,1)\n",
    "plt.hist(movie_df['Rating'], bins = nbins)\n",
    "plt.title(\"SQRT, {0} bins\".format(nbins))\n",
    "\n",
    "# Sturge's formula\n",
    "plt.subplot(1,3,2)\n",
    "nbins = int(np.ceil(np.log2(N) + 1))\n",
    "plt.hist(movie_df['Rating'], bins = nbins)\n",
    "plt.title(\"Sturge's, {0} bins\".format(nbins))\n",
    "\n",
    "# Freedman-Diaconis\n",
    "plt.subplot(1,3,3)\n",
    "data = movie_df['Rating'].order()\n",
    "iqr = np.percentile(data, 75) - np.percentile(data, 25)\n",
    "width = 2*iqr/np.power(N, 1/3)\n",
    "nbins = int((max(data) - min(data)) / width)\n",
    "plt.hist(movie_df['Rating'], bins = nbins)\n",
    "plt.title(\"Freedman-Diaconis, {0} bins\".format(nbins))\n"
   ]
  },
  {
   "cell_type": "markdown",
   "metadata": {},
   "source": [
    "# Investigating the anomalies in the histogram\n",
    "\n",
    "Let's investigate the anormalies in the histogram. "
   ]
  },
  {
   "cell_type": "code",
   "execution_count": 17,
   "metadata": {
    "collapsed": false
   },
   "outputs": [
    {
     "data": {
      "text/plain": [
       "<matplotlib.text.Text at 0x7fd3eb3d29e8>"
      ]
     },
     "execution_count": 17,
     "metadata": {},
     "output_type": "execute_result"
    },
    {
     "data": {
      "image/png": "[encoded data removed]",
      "text/plain": [
       "<matplotlib.figure.Figure at 0x7fd3eadbc320>"
      ]
     },
     "metadata": {},
     "output_type": "display_data"
    }
   ],
   "source": [
    "# TODO: draw the histogram with 120 bins\n",
    "n, bins, patches = plt.hist(movie_df['Rating'], bins = 120)\n",
    "plt.title(\"Histogram with bins 120\")\n",
    "plt.xlabel(\"Rating\")\n",
    "plt.ylabel(\"Frequency\")"
   ]
  },
  {
   "cell_type": "markdown",
   "metadata": {},
   "source": [
    "We can locate where the empty bins are, by checking whether the value in the n is zero or not. "
   ]
  },
  {
   "cell_type": "code",
   "execution_count": 18,
   "metadata": {
    "collapsed": false
   },
   "outputs": [
    {
     "name": "stdout",
     "output_type": "stream",
     "text": [
      "Range with value zero's are as follows\n",
      "[1.2225000000000001, 1.2966666666666666]\n",
      "They fall in range\n",
      "[1.5191666666666666, 1.5933333333333333]\n",
      "They fall in range\n",
      "[1.8158333333333334, 1.8900000000000001]\n",
      "They fall in range\n",
      "[2.1124999999999998, 2.1866666666666665]\n",
      "They fall in range\n",
      "[2.4091666666666667, 2.4833333333333334]\n",
      "They fall in range\n",
      "[2.7058333333333335, 2.7800000000000002]\n",
      "They fall in range\n",
      "[3.0024999999999999, 3.0766666666666667]\n",
      "They fall in range\n",
      "[3.2250000000000001, 3.2991666666666668]\n",
      "They fall in range\n",
      "[3.5216666666666669, 3.5958333333333337]\n",
      "They fall in range\n",
      "[3.8183333333333334, 3.8925000000000001]\n",
      "They fall in range\n",
      "[4.1150000000000002, 4.1891666666666669]\n",
      "They fall in range\n",
      "[4.4116666666666671, 4.4858333333333338]\n",
      "They fall in range\n",
      "[4.7083333333333339, 4.7825000000000006]\n",
      "They fall in range\n",
      "[5.0049999999999999, 5.0791666666666666]\n",
      "They fall in range\n",
      "[5.3016666666666667, 5.3758333333333335]\n",
      "They fall in range\n",
      "[5.5241666666666669, 5.5983333333333336]\n",
      "They fall in range\n",
      "[5.8208333333333337, 5.8950000000000005]\n",
      "They fall in range\n",
      "[6.1175000000000006, 6.1916666666666673]\n",
      "They fall in range\n",
      "[6.4141666666666675, 6.4883333333333342]\n",
      "They fall in range\n",
      "[6.7108333333333334, 6.7850000000000001]\n",
      "They fall in range\n",
      "[7.0075000000000003, 7.081666666666667]\n",
      "They fall in range\n",
      "[7.3041666666666671, 7.3783333333333339]\n",
      "They fall in range\n",
      "[7.600833333333334, 7.6750000000000007]\n",
      "They fall in range\n",
      "[7.8233333333333341, 7.8975000000000009]\n",
      "They fall in range\n",
      "[8.120000000000001, 8.1941666666666677]\n",
      "They fall in range\n",
      "[8.4166666666666679, 8.4908333333333346]\n",
      "They fall in range\n",
      "[8.7133333333333347, 8.7875000000000014]\n",
      "They fall in range\n",
      "[9.0099999999999998, 9.0841666666666665]\n",
      "They fall in range\n",
      "[9.3066666666666666, 9.3808333333333334]\n",
      "They fall in range\n",
      "[9.6033333333333335, 9.6775000000000002]\n",
      "They fall in range\n"
     ]
    }
   ],
   "source": [
    "# TODO: print out bins that doesn't contain any values. Check whether they fall into range like [1.8XX, 1.8XX]\n",
    "# useful zip: zip(bins[:-1], bins[1:], n)  what does this do?\n",
    "zip_values = zip(bins[:-1], bins[1:], n)\n",
    "print(\"Range with value zero's are as follows\")\n",
    "for i in zip_values:\n",
    "    if i[2] == 0:\n",
    "        print([i[0], i[1]])\n",
    "        if str(i[0])[:3] == str(i[1])[:3]:\n",
    "            print(\"They fall in range\")"
   ]
  },
  {
   "cell_type": "code",
   "execution_count": 19,
   "metadata": {
    "collapsed": false
   },
   "outputs": [
    {
     "data": {
      "text/plain": [
       "<matplotlib.text.Text at 0x7fd3ead52588>"
      ]
     },
     "execution_count": 19,
     "metadata": {},
     "output_type": "execute_result"
    },
    {
     "data": {
      "image/png": "[encoded data removed]",
      "text/plain": [
       "<matplotlib.figure.Figure at 0x7fd3eb1cf908>"
      ]
     },
     "metadata": {},
     "output_type": "display_data"
    }
   ],
   "source": [
    "# TODO: draw the histogram with 120 bins\n",
    "n, bins, patches = plt.hist(movie_df['Rating'], bins = 120)\n",
    "plt.title(\"Histogram with bins 120\")\n",
    "plt.xlabel(\"Rating\")\n",
    "plt.ylabel(\"Frequency\")"
   ]
  },
  {
   "cell_type": "markdown",
   "metadata": {},
   "source": [
    "One way to identify the peak is comparing the number to the next bin and see whether it is much higher than the next bin. "
   ]
  },
  {
   "cell_type": "code",
   "execution_count": 20,
   "metadata": {
    "collapsed": false
   },
   "outputs": [
    {
     "name": "stdout",
     "output_type": "stream",
     "text": [
      "Bin with peaks are as follows\n",
      "[1.1483333333333334, 1.2225000000000001]\n",
      "[1.3708333333333333, 1.4450000000000001]\n",
      "[1.5933333333333333, 1.6675]\n",
      "[1.7416666666666667, 1.8158333333333334]\n",
      "[1.9641666666666668, 2.0383333333333331]\n",
      "[2.1866666666666665, 2.2608333333333333]\n",
      "[2.335, 2.4091666666666667]\n",
      "[2.5575000000000001, 2.6316666666666668]\n",
      "[2.7800000000000002, 2.854166666666667]\n",
      "[2.9283333333333337, 3.0024999999999999]\n",
      "[3.1508333333333334, 3.2250000000000001]\n",
      "[3.3733333333333335, 3.4475000000000002]\n",
      "[3.5958333333333337, 3.6700000000000004]\n",
      "[3.7441666666666671, 3.8183333333333334]\n",
      "[3.9666666666666668, 4.0408333333333335]\n",
      "[4.1891666666666669, 4.2633333333333336]\n",
      "[4.3375000000000004, 4.4116666666666671]\n",
      "[4.5600000000000005, 4.6341666666666672]\n",
      "[4.7825000000000006, 4.8566666666666674]\n",
      "[4.9308333333333341, 5.0049999999999999]\n",
      "[5.1533333333333333, 5.2275]\n",
      "[5.3758333333333335, 5.4500000000000002]\n",
      "[5.5983333333333336, 5.6725000000000003]\n",
      "[5.746666666666667, 5.8208333333333337]\n",
      "[5.9691666666666672, 6.0433333333333339]\n",
      "[6.1916666666666673, 6.265833333333334]\n",
      "[6.3400000000000007, 6.4141666666666675]\n",
      "[6.5625, 6.6366666666666667]\n",
      "[6.7850000000000001, 6.8591666666666669]\n",
      "[6.9333333333333336, 7.0075000000000003]\n",
      "[7.1558333333333337, 7.2300000000000004]\n",
      "[7.3783333333333339, 7.4525000000000006]\n",
      "[7.5266666666666673, 7.600833333333334]\n",
      "[7.7491666666666674, 7.8233333333333341]\n",
      "[7.9716666666666676, 8.0458333333333343]\n",
      "[8.1941666666666677, 8.2683333333333344]\n",
      "[8.4908333333333346, 8.5650000000000013]\n",
      "[8.7875000000000014, 8.8616666666666681]\n",
      "[9.0841666666666665, 9.1583333333333332]\n",
      "[9.3808333333333334, 9.4550000000000001]\n",
      "[9.7516666666666669, 9.8258333333333336]\n"
     ]
    }
   ],
   "source": [
    "# TODO: identify peaks and print the bins with the peaks \n",
    "# e.g. \n",
    "# [1.0, 1.1]\n",
    "# [1.3, 1.4]\n",
    "# [1.6, 1.7]\n",
    "# ...\n",
    "#\n",
    "# you can use zip again like zip(bins[:-1], bins[1:]  ... ) to access the data in two adjacent bins.\n",
    "values = list(zip(bins[:-1], bins[1:], n))\n",
    "print(\"Bin with peaks are as follows\")\n",
    "for i in range(1, len(values)):\n",
    "    try:\n",
    "        if ((values[i][2] > values[i-1][2]) and (values[i][2] > values[i+1][2])):\n",
    "            print([values[i][0], values[i][1]])\n",
    "    except IndexError:\n",
    "        pass"
   ]
  },
  {
   "cell_type": "markdown",
   "metadata": {},
   "source": [
    "Ok. They doesn't necessarilly cover the integer values. Let's see the minimum number of votes. "
   ]
  },
  {
   "cell_type": "code",
   "execution_count": 21,
   "metadata": {
    "collapsed": false
   },
   "outputs": [
    {
     "data": {
      "text/html": [
       "<div style=\"max-height:1000px;max-width:1500px;overflow:auto;\">\n",
       "<table border=\"1\" class=\"dataframe\">\n",
       "  <thead>\n",
       "    <tr style=\"text-align: right;\">\n",
       "      <th></th>\n",
       "      <th>Year</th>\n",
       "      <th>Rating</th>\n",
       "      <th>Votes</th>\n",
       "    </tr>\n",
       "  </thead>\n",
       "  <tbody>\n",
       "    <tr>\n",
       "      <th>count</th>\n",
       "      <td> 313011.000000</td>\n",
       "      <td> 313011.000000</td>\n",
       "      <td>  313011.000000</td>\n",
       "    </tr>\n",
       "    <tr>\n",
       "      <th>mean</th>\n",
       "      <td>   1988.418334</td>\n",
       "      <td>      6.296195</td>\n",
       "      <td>    1691.231775</td>\n",
       "    </tr>\n",
       "    <tr>\n",
       "      <th>std</th>\n",
       "      <td>     26.636414</td>\n",
       "      <td>      1.363866</td>\n",
       "      <td>   18593.708570</td>\n",
       "    </tr>\n",
       "    <tr>\n",
       "      <th>min</th>\n",
       "      <td>   1874.000000</td>\n",
       "      <td>      1.000000</td>\n",
       "      <td>       5.000000</td>\n",
       "    </tr>\n",
       "    <tr>\n",
       "      <th>25%</th>\n",
       "      <td>   1974.000000</td>\n",
       "      <td>      5.500000</td>\n",
       "      <td>      10.000000</td>\n",
       "    </tr>\n",
       "    <tr>\n",
       "      <th>50%</th>\n",
       "      <td>   1999.000000</td>\n",
       "      <td>      6.500000</td>\n",
       "      <td>      25.000000</td>\n",
       "    </tr>\n",
       "    <tr>\n",
       "      <th>75%</th>\n",
       "      <td>   2009.000000</td>\n",
       "      <td>      7.300000</td>\n",
       "      <td>     110.500000</td>\n",
       "    </tr>\n",
       "    <tr>\n",
       "      <th>max</th>\n",
       "      <td>   2017.000000</td>\n",
       "      <td>      9.900000</td>\n",
       "      <td> 1511933.000000</td>\n",
       "    </tr>\n",
       "  </tbody>\n",
       "</table>\n",
       "</div>"
      ],
      "text/plain": [
       "                Year         Rating           Votes\n",
       "count  313011.000000  313011.000000   313011.000000\n",
       "mean     1988.418334       6.296195     1691.231775\n",
       "std        26.636414       1.363866    18593.708570\n",
       "min      1874.000000       1.000000        5.000000\n",
       "25%      1974.000000       5.500000       10.000000\n",
       "50%      1999.000000       6.500000       25.000000\n",
       "75%      2009.000000       7.300000      110.500000\n",
       "max      2017.000000       9.900000  1511933.000000"
      ]
     },
     "execution_count": 21,
     "metadata": {},
     "output_type": "execute_result"
    }
   ],
   "source": [
    "movie_df.describe()"
   ]
  },
  {
   "cell_type": "markdown",
   "metadata": {},
   "source": [
    "Ok, the minimum number of votes is 5 not 1. IMDB may only keep the rating information for movies with at least 5 votes. This may explain why the most frequent ratings are like 6.4 and 6.6. Let's plot the histogram with only the rows with 5 votes. Set the binsize 30. "
   ]
  },
  {
   "cell_type": "code",
   "execution_count": 22,
   "metadata": {
    "collapsed": false
   },
   "outputs": [
    {
     "data": {
      "text/plain": [
       "<matplotlib.text.Text at 0x7fd3eaadc358>"
      ]
     },
     "execution_count": 22,
     "metadata": {},
     "output_type": "execute_result"
    },
    {
     "data": {
      "image/png": "[encoded data removed]",
      "text/plain": [
       "<matplotlib.figure.Figure at 0x7fd3edc1ca58>"
      ]
     },
     "metadata": {},
     "output_type": "display_data"
    }
   ],
   "source": [
    "# TODO: plot the histogram only with ratings that have the minimum number of votes. \n",
    "df = movie_df[movie_df['Votes'] == 5]\n",
    "plt.hist(df['Rating'], bins = 30)\n",
    "plt.xlabel(\"Rating\")\n",
    "plt.ylabel(\"Frequency\")\n",
    "plt.title(\"Histogram of rating with min no of votes\")"
   ]
  },
  {
   "cell_type": "markdown",
   "metadata": {},
   "source": [
    "Then, print out what are the most frequent rating values. Use `value_counts()` function for dataframe. "
   ]
  },
  {
   "cell_type": "code",
   "execution_count": 23,
   "metadata": {
    "collapsed": false
   },
   "outputs": [
    {
     "data": {
      "text/plain": [
       "6.4    1017\n",
       "6.6     932\n",
       "6.2     923\n",
       "5.8     922\n",
       "6.0     883\n",
       "6.8     877\n",
       "5.6     861\n",
       "5.4     835\n",
       "7.0     818\n",
       "5.2     815\n",
       "4.8     760\n",
       "7.2     735\n",
       "7.4     734\n",
       "7.6     689\n",
       "5.0     673\n",
       "8.2     655\n",
       "4.6     640\n",
       "7.8     621\n",
       "4.4     611\n",
       "4.2     565\n",
       "8.0     550\n",
       "4.0     465\n",
       "3.8     412\n",
       "8.4     366\n",
       "8.6     307\n",
       "3.6     295\n",
       "3.4     289\n",
       "3.2     250\n",
       "8.8     243\n",
       "2.8     226\n",
       "3.0     216\n",
       "2.6     133\n",
       "2.4      81\n",
       "2.2      60\n",
       "2.0      40\n",
       "1.8      28\n",
       "1.4      23\n",
       "1.6      16\n",
       "1.0      15\n",
       "1.2       6\n",
       "9.2       5\n",
       "9.0       5\n",
       "9.4       5\n",
       "9.8       2\n",
       "9.6       2\n",
       "dtype: int64"
      ]
     },
     "execution_count": 23,
     "metadata": {},
     "output_type": "execute_result"
    }
   ],
   "source": [
    "# TODO: filter out the rows with the min number of votes (5) and then `value_counts()` them. \n",
    "# sort the result to see what are the most common numbers. \n",
    "df['Rating'].value_counts()\n",
    "# As you can see in the following output that 6.4 is most common rating."
   ]
  },
  {
   "cell_type": "markdown",
   "metadata": {},
   "source": [
    "So, the most frequent values are not \"x.0\". Let's see the CDF. "
   ]
  },
  {
   "cell_type": "code",
   "execution_count": 24,
   "metadata": {
    "collapsed": false
   },
   "outputs": [],
   "source": [
    "# Plot the CDF of votes. \n"
   ]
  },
  {
   "cell_type": "markdown",
   "metadata": {},
   "source": [
    "What's going on? The number of votes is heavily skewed and most datapoints are at the left end. "
   ]
  },
  {
   "cell_type": "code",
   "execution_count": 25,
   "metadata": {
    "collapsed": false
   },
   "outputs": [],
   "source": [
    "# TODO: plot the same thing but limit the xrange (xlim) to [0, 100]. \n",
    "\n"
   ]
  },
  {
   "cell_type": "markdown",
   "metadata": {},
   "source": [
    "Draw a histogram focused on the range [0, 10] to just see how many datapoints are there. "
   ]
  },
  {
   "cell_type": "code",
   "execution_count": 26,
   "metadata": {
    "collapsed": false
   },
   "outputs": [],
   "source": [
    "# TODO: set the xlim to [0, 10] adjust ylim and bins so that \n",
    "# we can see how many datapoints are there for each # of votes. \n"
   ]
  },
  {
   "cell_type": "markdown",
   "metadata": {},
   "source": [
    "Let's assume that most 5 ratings are from 5 to 8 and see what we'll get. You can use `itertools.product` function to generate the fake ratings. "
   ]
  },
  {
   "cell_type": "code",
   "execution_count": 27,
   "metadata": {
    "collapsed": false
   },
   "outputs": [],
   "source": [
    "#list(product([5,6,7,8], repeat=5))[:10]"
   ]
  },
  {
   "cell_type": "code",
   "execution_count": 28,
   "metadata": {
    "collapsed": false
   },
   "outputs": [
    {
     "data": {
      "text/plain": [
       "[('6.6', 155),\n",
       " ('6.4', 155),\n",
       " ('6.8', 135),\n",
       " ('6.2', 135),\n",
       " ('7.0', 101),\n",
       " ('6.0', 101),\n",
       " ('7.2', 65),\n",
       " ('5.8', 65),\n",
       " ('7.4', 35),\n",
       " ('5.6', 35),\n",
       " ('5.4', 15),\n",
       " ('7.6', 15),\n",
       " ('7.8', 5),\n",
       " ('5.2', 5),\n",
       " ('5.0', 1),\n",
       " ('8.0', 1)]"
      ]
     },
     "execution_count": 28,
     "metadata": {},
     "output_type": "execute_result"
    }
   ],
   "source": [
    "from itertools import product\n",
    "from collections import Counter\n",
    "\n",
    "c = Counter()\n",
    "for x in product([5,6,7,8], repeat=5):\n",
    "    c[str(round(np.mean(x), 1))]+=1\n",
    "sorted(c.items(), key=lambda x: x[1], reverse=True)\n",
    "    \n",
    "# or sorted(Counter(str(round(np.mean(x), 1)) for x in product([5,6,7,8], repeat=5)).items(), key=lambda x: x[1], reverse=True)"
   ]
  },
  {
   "cell_type": "markdown",
   "metadata": {},
   "source": [
    "# Boxplot"
   ]
  },
  {
   "cell_type": "markdown",
   "metadata": {},
   "source": [
    "Let's look at the example data that we looked at during the class. "
   ]
  },
  {
   "cell_type": "code",
   "execution_count": 29,
   "metadata": {
    "collapsed": true
   },
   "outputs": [],
   "source": [
    "data = [-1, 3, 3, 4, 15, 16, 16, 17, 23, 24, 24, 25, 35, 36, 37, 46]"
   ]
  },
  {
   "cell_type": "markdown",
   "metadata": {},
   "source": [
    "The [**`numpy.percentile()`**](http://docs.scipy.org/doc/numpy-dev/reference/generated/numpy.percentile.html) function provides a way to calculate the percentiles. Note that using the option `interpolation`, you can specify which value to take when the percentile value lies in between numbers. The default is linear. "
   ]
  },
  {
   "cell_type": "code",
   "execution_count": 30,
   "metadata": {
    "collapsed": false
   },
   "outputs": [
    {
     "name": "stdout",
     "output_type": "stream",
     "text": [
      "12.25\n",
      "20.0 20.0\n",
      "27.5\n"
     ]
    }
   ],
   "source": [
    "print(np.percentile(data, 25))\n",
    "print(np.percentile(data, 50), np.median(data))\n",
    "print(np.percentile(data, 75))"
   ]
  },
  {
   "cell_type": "markdown",
   "metadata": {},
   "source": [
    "Can you explain why do you get those first and third quartile values? The first quantile value is not 4, not 15, and not 9.5. Why?"
   ]
  },
  {
   "cell_type": "raw",
   "metadata": {},
   "source": [
    "# TODO: explain\n",
    "\n",
    "Due to interpolation method, the first quartile value is 12.25. It is linear by default."
   ]
  },
  {
   "cell_type": "markdown",
   "metadata": {},
   "source": [
    "Let's draw a boxplot with matplotlib. "
   ]
  },
  {
   "cell_type": "code",
   "execution_count": 31,
   "metadata": {
    "collapsed": false
   },
   "outputs": [
    {
     "data": {
      "text/plain": [
       "{'boxes': [<matplotlib.lines.Line2D at 0x7fd3e9163128>],\n",
       " 'caps': [<matplotlib.lines.Line2D at 0x7fd3e9169ac8>,\n",
       "  <matplotlib.lines.Line2D at 0x7fd3e9169d30>],\n",
       " 'fliers': [<matplotlib.lines.Line2D at 0x7fd3e916dd30>],\n",
       " 'means': [],\n",
       " 'medians': [<matplotlib.lines.Line2D at 0x7fd3e916d550>],\n",
       " 'whiskers': [<matplotlib.lines.Line2D at 0x7fd3e9163ac8>,\n",
       "  <matplotlib.lines.Line2D at 0x7fd3e9163d30>]}"
      ]
     },
     "execution_count": 31,
     "metadata": {},
     "output_type": "execute_result"
    },
    {
     "data": {
      "image/png": "[encoded data removed]",
      "text/plain": [
       "<matplotlib.figure.Figure at 0x7fd3eabd66a0>"
      ]
     },
     "metadata": {},
     "output_type": "display_data"
    }
   ],
   "source": [
    "# TODO: draw a boxplot of the data\n",
    "plt.boxplot(data)"
   ]
  },
  {
   "cell_type": "code",
   "execution_count": null,
   "metadata": {
    "collapsed": true
   },
   "outputs": [],
   "source": []
  }
 ],
 "metadata": {
  "anaconda-cloud": {},
  "kernelspec": {
   "display_name": "Python 3",
   "language": "python",
   "name": "python3"
  },
  "language_info": {
   "codemirror_mode": {
    "name": "ipython",
    "version": 3
   },
   "file_extension": ".py",
   "mimetype": "text/x-python",
   "name": "python",
   "nbconvert_exporter": "python",
   "pygments_lexer": "ipython3",
   "version": "3.4.3+"
  }
 },
 "nbformat": 4,
 "nbformat_minor": 0
}
