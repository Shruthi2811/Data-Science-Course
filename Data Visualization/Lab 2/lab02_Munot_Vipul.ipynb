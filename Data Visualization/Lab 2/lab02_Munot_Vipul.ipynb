{
 "cells": [
  {
   "cell_type": "markdown",
   "metadata": {},
   "source": [
    "# W2 Lab Assignment\n",
    "\n",
    "[Internet Movie Database (IMDb)](http://www.imdb.com/) provides various information about movies, such as total budgets, lengths, actors, and user ratings. They are publicly available from [here](http://www.imdb.com/interfaces). In this lab, let's explore a processed dataset named 'imdb.csv', which contains some basic information of movies.\n",
    "\n",
    "Download the file from Canvas. There are 4 columns separated by tab:\n",
    "\n",
    "1. Title: title of the movie;\n",
    "1. Year: release year;\n",
    "1. Rating: average IMDb user rating;\n",
    "1. Votes: number of IMDB users who rated this movie\n",
    "\n",
    "First, we want to get some insights from the data with Python; then we want to display information on a web page and prettify it with html/css.\n",
    "\n",
    "Things to note:\n",
    "\n",
    "1. Let's use Python 3.5;\n",
    "2. There are 313,012 lines in the file. When printing things, print selectively.\n"
   ]
  },
  {
   "cell_type": "markdown",
   "metadata": {},
   "source": [
    "# Part 1. Data manipulation with Python"
   ]
  },
  {
   "cell_type": "markdown",
   "metadata": {},
   "source": [
    "## Q1: What is the first and last year in this dataset? How many movies released in each year?\n",
    "\n",
    "To do this, we first need to read the CSV file. Python provides the [csv](https://docs.python.org/2/library/csv.html) module to read and write CSV files. The [`csv.reader`](https://docs.python.org/2/library/csv.html#csv.reader) function returns a Python object which will iterate over lines in the given file. Each line is returned as a list of strings, so that we can access a particular column using list index. If we want to ignore the first line, we can use [`islice`](https://docs.python.org/2/library/itertools.html#itertools.islice). It is like slicing a list, but it can slice an iterator (e.g. file stream). For instance, `islice(reader, 0, 5)` means \"give me the first 5 items from the `reader`\". `islice(reader, 1, 5)` means \"give me the 4 items starting from the second item\". \n",
    "\n",
    "A basic usage example to read the first 11 lines of 'imdb.csv':"
   ]
  },
  {
   "cell_type": "code",
   "execution_count": 20,
   "metadata": {
    "collapsed": false
   },
   "outputs": [
    {
     "name": "stdout",
     "output_type": "stream",
     "text": [
      "['Title', 'Year', 'Rating', 'Votes']\n",
      "Year\n",
      "['!Next?', '1994', '5.4', '5']\n",
      "1994\n",
      "['#1 Single', '2006', '6.1', '61']\n",
      "2006\n",
      "['#7DaysLater', '2013', '7.1', '14']\n",
      "2013\n",
      "['#Bikerlive', '2014', '6.8', '11']\n",
      "2014\n"
     ]
    }
   ],
   "source": [
    "import csv\n",
    "from itertools import islice\n",
    "\n",
    "f = open('imdb.csv', 'r')\n",
    "reader = csv.reader(f, delimiter='\\t')\n",
    "for row in islice(reader, 0, 5):\n",
    "    print(row)\n",
    "    print(row[1])"
   ]
  },
  {
   "cell_type": "markdown",
   "metadata": {},
   "source": [
    "There are many ways to do Q1. One way is to use [dictionaries](https://docs.python.org/2/tutorial/datastructures.html#dictionaries) where the key: value pairs are:\n",
    "\n",
    "- key: year\n",
    "- value: a list of movie titles or number of movies\n"
   ]
  },
  {
   "cell_type": "code",
   "execution_count": 2,
   "metadata": {
    "collapsed": false
   },
   "outputs": [
    {
     "name": "stdout",
     "output_type": "stream",
     "text": [
      "{1972: 1}\n"
     ]
    }
   ],
   "source": [
    "dt = {}\n",
    "year = 1972\n",
    "if year not in dt:\n",
    "    dt[year] = 1\n",
    "else:\n",
    "    dt[year] += 1\n",
    "print(dt)"
   ]
  },
  {
   "cell_type": "markdown",
   "metadata": {},
   "source": [
    "Python automates the job above by using [`Counter`](https://docs.python.org/3.4/library/collections.html#collections.Counter). "
   ]
  },
  {
   "cell_type": "code",
   "execution_count": 3,
   "metadata": {
    "collapsed": false
   },
   "outputs": [
    {
     "name": "stdout",
     "output_type": "stream",
     "text": [
      "1\n",
      "0\n"
     ]
    }
   ],
   "source": [
    "from collections import Counter\n",
    "\n",
    "movie_counter = Counter()\n",
    "movie_counter[1972] +=1 \n",
    "print(movie_counter[1972])\n",
    "print(movie_counter[1970])"
   ]
  },
  {
   "cell_type": "markdown",
   "metadata": {},
   "source": [
    "Once all lines are read, we want to print the dictionary, which can be done by iterating its key: value pairs."
   ]
  },
  {
   "cell_type": "code",
   "execution_count": 4,
   "metadata": {
    "collapsed": false
   },
   "outputs": [
    {
     "name": "stdout",
     "output_type": "stream",
     "text": [
      "1972 1\n",
      "1972 1\n"
     ]
    }
   ],
   "source": [
    "for key,val in dt.items():\n",
    "    print(key,val)\n",
    "for key,val in movie_counter.items():\n",
    "    print(key,val)"
   ]
  },
  {
   "cell_type": "markdown",
   "metadata": {},
   "source": [
    "You can get the keys (the years) by using `.keys()` function. "
   ]
  },
  {
   "cell_type": "code",
   "execution_count": 5,
   "metadata": {
    "collapsed": false
   },
   "outputs": [
    {
     "data": {
      "text/plain": [
       "dict_keys([1980, 1972, 2015])"
      ]
     },
     "execution_count": 5,
     "metadata": {},
     "output_type": "execute_result"
    }
   ],
   "source": [
    "movie_counter[1980] += 5\n",
    "movie_counter[2015] += 1\n",
    "movie_counter.keys()"
   ]
  },
  {
   "cell_type": "markdown",
   "metadata": {},
   "source": [
    "and you have convenient functions like [`min()`](https://docs.python.org/2/library/functions.html#min) and [`max()`](https://docs.python.org/2/library/functions.html#max) for calculating the min and max value of a list or iterable. "
   ]
  },
  {
   "cell_type": "code",
   "execution_count": 6,
   "metadata": {
    "collapsed": false
   },
   "outputs": [
    {
     "name": "stdout",
     "output_type": "stream",
     "text": [
      "0\n",
      "1000\n"
     ]
    }
   ],
   "source": [
    "alist = [23,3,5,4,2,1,1,0,1000]\n",
    "print(min(alist))\n",
    "print(max(alist))"
   ]
  },
  {
   "cell_type": "markdown",
   "metadata": {},
   "source": [
    "**Code for Q1**"
   ]
  },
  {
   "cell_type": "code",
   "execution_count": 30,
   "metadata": {
    "collapsed": false
   },
   "outputs": [],
   "source": [
    "import pandas as pd\n",
    "imdb = pd.read_csv('imdb.csv', delimiter='\\t')"
   ]
  },
  {
   "cell_type": "code",
   "execution_count": 31,
   "metadata": {
    "collapsed": false
   },
   "outputs": [
    {
     "data": {
      "text/html": [
       "<div>\n",
       "<table border=\"1\" class=\"dataframe\">\n",
       "  <thead>\n",
       "    <tr style=\"text-align: right;\">\n",
       "      <th></th>\n",
       "      <th>Title</th>\n",
       "      <th>Year</th>\n",
       "      <th>Rating</th>\n",
       "      <th>Votes</th>\n",
       "    </tr>\n",
       "  </thead>\n",
       "  <tbody>\n",
       "    <tr>\n",
       "      <th>0</th>\n",
       "      <td>!Next?</td>\n",
       "      <td>1994</td>\n",
       "      <td>5.4</td>\n",
       "      <td>5</td>\n",
       "    </tr>\n",
       "    <tr>\n",
       "      <th>1</th>\n",
       "      <td>#1 Single</td>\n",
       "      <td>2006</td>\n",
       "      <td>6.1</td>\n",
       "      <td>61</td>\n",
       "    </tr>\n",
       "    <tr>\n",
       "      <th>2</th>\n",
       "      <td>#7DaysLater</td>\n",
       "      <td>2013</td>\n",
       "      <td>7.1</td>\n",
       "      <td>14</td>\n",
       "    </tr>\n",
       "    <tr>\n",
       "      <th>3</th>\n",
       "      <td>#Bikerlive</td>\n",
       "      <td>2014</td>\n",
       "      <td>6.8</td>\n",
       "      <td>11</td>\n",
       "    </tr>\n",
       "    <tr>\n",
       "      <th>4</th>\n",
       "      <td>#ByMySide</td>\n",
       "      <td>2012</td>\n",
       "      <td>5.5</td>\n",
       "      <td>13</td>\n",
       "    </tr>\n",
       "  </tbody>\n",
       "</table>\n",
       "</div>"
      ],
      "text/plain": [
       "         Title  Year  Rating  Votes\n",
       "0       !Next?  1994     5.4      5\n",
       "1    #1 Single  2006     6.1     61\n",
       "2  #7DaysLater  2013     7.1     14\n",
       "3   #Bikerlive  2014     6.8     11\n",
       "4    #ByMySide  2012     5.5     13"
      ]
     },
     "execution_count": 31,
     "metadata": {},
     "output_type": "execute_result"
    }
   ],
   "source": [
    "imdb.head()"
   ]
  },
  {
   "cell_type": "code",
   "execution_count": 34,
   "metadata": {
    "collapsed": false
   },
   "outputs": [
    {
     "data": {
      "text/plain": [
       "1874"
      ]
     },
     "execution_count": 34,
     "metadata": {},
     "output_type": "execute_result"
    }
   ],
   "source": [
    "min(imdb['Year'])"
   ]
  },
  {
   "cell_type": "code",
   "execution_count": 35,
   "metadata": {
    "collapsed": false
   },
   "outputs": [
    {
     "data": {
      "text/plain": [
       "2017"
      ]
     },
     "execution_count": 35,
     "metadata": {},
     "output_type": "execute_result"
    }
   ],
   "source": [
    "max(imdb['Year'])"
   ]
  },
  {
   "cell_type": "code",
   "execution_count": 48,
   "metadata": {
    "collapsed": false
   },
   "outputs": [
    {
     "data": {
      "text/plain": [
       "Counter({1874: 1,\n",
       "         1878: 1,\n",
       "         1887: 1,\n",
       "         1888: 5,\n",
       "         1889: 2,\n",
       "         1890: 5,\n",
       "         1891: 9,\n",
       "         1892: 9,\n",
       "         1893: 2,\n",
       "         1894: 94,\n",
       "         1895: 116,\n",
       "         1896: 678,\n",
       "         1897: 479,\n",
       "         1898: 321,\n",
       "         1899: 242,\n",
       "         1900: 265,\n",
       "         1901: 254,\n",
       "         1902: 217,\n",
       "         1903: 261,\n",
       "         1904: 214,\n",
       "         1905: 177,\n",
       "         1906: 182,\n",
       "         1907: 197,\n",
       "         1908: 267,\n",
       "         1909: 405,\n",
       "         1910: 389,\n",
       "         1911: 309,\n",
       "         1912: 376,\n",
       "         1913: 311,\n",
       "         1914: 315,\n",
       "         1915: 361,\n",
       "         1916: 328,\n",
       "         1917: 317,\n",
       "         1918: 286,\n",
       "         1919: 313,\n",
       "         1920: 323,\n",
       "         1921: 345,\n",
       "         1922: 328,\n",
       "         1923: 393,\n",
       "         1924: 466,\n",
       "         1925: 508,\n",
       "         1926: 554,\n",
       "         1927: 581,\n",
       "         1928: 609,\n",
       "         1929: 671,\n",
       "         1930: 836,\n",
       "         1931: 939,\n",
       "         1932: 1026,\n",
       "         1933: 1024,\n",
       "         1934: 1120,\n",
       "         1935: 1174,\n",
       "         1936: 1235,\n",
       "         1937: 1245,\n",
       "         1938: 1230,\n",
       "         1939: 1162,\n",
       "         1940: 1160,\n",
       "         1941: 1169,\n",
       "         1942: 1193,\n",
       "         1943: 1105,\n",
       "         1944: 969,\n",
       "         1945: 876,\n",
       "         1946: 952,\n",
       "         1947: 1010,\n",
       "         1948: 1084,\n",
       "         1949: 1208,\n",
       "         1950: 1283,\n",
       "         1951: 1318,\n",
       "         1952: 1316,\n",
       "         1953: 1393,\n",
       "         1954: 1397,\n",
       "         1955: 1476,\n",
       "         1956: 1479,\n",
       "         1957: 1604,\n",
       "         1958: 1533,\n",
       "         1959: 1572,\n",
       "         1960: 1567,\n",
       "         1961: 1623,\n",
       "         1962: 1669,\n",
       "         1963: 1635,\n",
       "         1964: 1823,\n",
       "         1965: 1896,\n",
       "         1966: 2025,\n",
       "         1967: 2086,\n",
       "         1968: 2199,\n",
       "         1969: 2320,\n",
       "         1970: 2240,\n",
       "         1971: 2370,\n",
       "         1972: 2445,\n",
       "         1973: 2325,\n",
       "         1974: 2392,\n",
       "         1975: 2286,\n",
       "         1976: 2399,\n",
       "         1977: 2264,\n",
       "         1978: 2386,\n",
       "         1979: 2526,\n",
       "         1980: 2438,\n",
       "         1981: 2485,\n",
       "         1982: 2537,\n",
       "         1983: 2647,\n",
       "         1984: 2779,\n",
       "         1985: 2908,\n",
       "         1986: 2882,\n",
       "         1987: 3049,\n",
       "         1988: 3054,\n",
       "         1989: 3193,\n",
       "         1990: 3093,\n",
       "         1991: 2993,\n",
       "         1992: 3136,\n",
       "         1993: 3128,\n",
       "         1994: 3415,\n",
       "         1995: 3698,\n",
       "         1996: 3923,\n",
       "         1997: 4353,\n",
       "         1998: 4651,\n",
       "         1999: 5138,\n",
       "         2000: 5575,\n",
       "         2001: 6042,\n",
       "         2002: 6694,\n",
       "         2003: 7355,\n",
       "         2004: 8584,\n",
       "         2005: 9508,\n",
       "         2006: 10115,\n",
       "         2007: 10147,\n",
       "         2008: 11095,\n",
       "         2009: 12268,\n",
       "         2010: 12931,\n",
       "         2011: 13944,\n",
       "         2012: 13887,\n",
       "         2013: 13048,\n",
       "         2014: 10862,\n",
       "         2015: 4402,\n",
       "         2016: 2,\n",
       "         2017: 1})"
      ]
     },
     "execution_count": 48,
     "metadata": {},
     "output_type": "execute_result"
    }
   ],
   "source": [
    "from collections import Counter\n",
    "Counter(imdb[\"Year\"])"
   ]
  },
  {
   "cell_type": "markdown",
   "metadata": {},
   "source": [
    "## Q2: What is the average ratings/votes?\n",
    "\n",
    "We can store the ratings/votes column as a list and then calculate various basic statistics (mean, median, etc.). To do this, we can use the [NumPy](http://www.numpy.org/) library and call the function [`numpy.mean`](http://docs.scipy.org/doc/numpy/reference/generated/numpy.mean.html) and [`numpy.median`](http://docs.scipy.org/doc/numpy/reference/generated/numpy.median.html). For example,"
   ]
  },
  {
   "cell_type": "code",
   "execution_count": 10,
   "metadata": {
    "collapsed": false
   },
   "outputs": [],
   "source": [
    "import numpy as np\n",
    "\n",
    "alist = [1,3,6,2,5,2]\n",
    "print(np.mean(alist))\n",
    "print(np.median(alist))"
   ]
  },
  {
   "cell_type": "markdown",
   "metadata": {},
   "source": [
    "**Code for Q2**"
   ]
  },
  {
   "cell_type": "code",
   "execution_count": 41,
   "metadata": {
    "collapsed": false
   },
   "outputs": [
    {
     "data": {
      "text/plain": [
       "6.2961953413777811"
      ]
     },
     "execution_count": 41,
     "metadata": {},
     "output_type": "execute_result"
    }
   ],
   "source": [
    "# implement below\n",
    "imdb['Rating'].mean()"
   ]
  },
  {
   "cell_type": "code",
   "execution_count": 42,
   "metadata": {
    "collapsed": false
   },
   "outputs": [
    {
     "data": {
      "text/plain": [
       "1691.2317746021706"
      ]
     },
     "execution_count": 42,
     "metadata": {},
     "output_type": "execute_result"
    }
   ],
   "source": [
    "imdb['Votes'].mean()"
   ]
  },
  {
   "cell_type": "markdown",
   "metadata": {},
   "source": [
    "## Q3: What are the 5 movies that have the highest ratings/votes?\n",
    "\n",
    "Store the movie titles and ratings information as a dictonary:\n",
    "\n",
    "- key: movie title\n",
    "- value: movie rating\n",
    "\n",
    "Then, we can sort the dictionary based on its values, which will return a list of [tuples](https://docs.python.org/2/tutorial/datastructures.html#tuples-and-sequences). Note to print only the top 5 movies."
   ]
  },
  {
   "cell_type": "code",
   "execution_count": 12,
   "metadata": {
    "collapsed": false
   },
   "outputs": [
    {
     "name": "stdout",
     "output_type": "stream",
     "text": [
      "[(1981, 55), (1980, 50), (1975, 10), (1971, 2), (1962, 1)]\n",
      "1981 55\n",
      "1980 50\n",
      "1975 10\n",
      "1971 2\n",
      "1962 1\n"
     ]
    }
   ],
   "source": [
    "import operator\n",
    "\n",
    "dt = {1971: 2, 1975: 10, 1962: 1, 1980: 50, 1981: 55}\n",
    "sorted_x_by_val = sorted(dt.items(), key=operator.itemgetter(1), reverse=True )\n",
    "print(sorted_x_by_val)\n",
    "for elem in sorted_x_by_val:\n",
    "    print(elem[0],elem[1])"
   ]
  },
  {
   "cell_type": "markdown",
   "metadata": {},
   "source": [
    "**Code for Q3**"
   ]
  },
  {
   "cell_type": "code",
   "execution_count": 45,
   "metadata": {
    "collapsed": false
   },
   "outputs": [
    {
     "data": {
      "text/html": [
       "<div>\n",
       "<table border=\"1\" class=\"dataframe\">\n",
       "  <thead>\n",
       "    <tr style=\"text-align: right;\">\n",
       "      <th></th>\n",
       "      <th>Title</th>\n",
       "      <th>Year</th>\n",
       "      <th>Rating</th>\n",
       "      <th>Votes</th>\n",
       "    </tr>\n",
       "  </thead>\n",
       "  <tbody>\n",
       "    <tr>\n",
       "      <th>57863</th>\n",
       "      <td>Adolfo Perez Esquivel: Rivers of Hope</td>\n",
       "      <td>2015</td>\n",
       "      <td>9.9</td>\n",
       "      <td>9</td>\n",
       "    </tr>\n",
       "    <tr>\n",
       "      <th>42123</th>\n",
       "      <td>The Red Shirt Diaries</td>\n",
       "      <td>2014</td>\n",
       "      <td>9.8</td>\n",
       "      <td>6</td>\n",
       "    </tr>\n",
       "    <tr>\n",
       "      <th>140553</th>\n",
       "      <td>High-Rise</td>\n",
       "      <td>2015</td>\n",
       "      <td>9.8</td>\n",
       "      <td>5</td>\n",
       "    </tr>\n",
       "    <tr>\n",
       "      <th>131241</th>\n",
       "      <td>Girls Loving Girls</td>\n",
       "      <td>1996</td>\n",
       "      <td>9.8</td>\n",
       "      <td>5</td>\n",
       "    </tr>\n",
       "    <tr>\n",
       "      <th>24902</th>\n",
       "      <td>Mari White Presents the Newsboys</td>\n",
       "      <td>2011</td>\n",
       "      <td>9.7</td>\n",
       "      <td>6</td>\n",
       "    </tr>\n",
       "  </tbody>\n",
       "</table>\n",
       "</div>"
      ],
      "text/plain": [
       "                                        Title  Year  Rating  Votes\n",
       "57863   Adolfo Perez Esquivel: Rivers of Hope  2015     9.9      9\n",
       "42123                   The Red Shirt Diaries  2014     9.8      6\n",
       "140553                              High-Rise  2015     9.8      5\n",
       "131241                     Girls Loving Girls  1996     9.8      5\n",
       "24902        Mari White Presents the Newsboys  2011     9.7      6"
      ]
     },
     "execution_count": 45,
     "metadata": {},
     "output_type": "execute_result"
    }
   ],
   "source": [
    "# implement below\n",
    "import warnings\n",
    "warnings.filterwarnings('ignore')\n",
    "imdb.sort_index(by=['Rating'], ascending=[False]).head()"
   ]
  },
  {
   "cell_type": "code",
   "execution_count": 47,
   "metadata": {
    "collapsed": false
   },
   "outputs": [
    {
     "data": {
      "text/html": [
       "<div>\n",
       "<table border=\"1\" class=\"dataframe\">\n",
       "  <thead>\n",
       "    <tr style=\"text-align: right;\">\n",
       "      <th></th>\n",
       "      <th>Title</th>\n",
       "      <th>Year</th>\n",
       "      <th>Rating</th>\n",
       "      <th>Votes</th>\n",
       "    </tr>\n",
       "  </thead>\n",
       "  <tbody>\n",
       "    <tr>\n",
       "      <th>279320</th>\n",
       "      <td>The Shawshank Redemption</td>\n",
       "      <td>1994</td>\n",
       "      <td>9.3</td>\n",
       "      <td>1511933</td>\n",
       "    </tr>\n",
       "    <tr>\n",
       "      <th>264590</th>\n",
       "      <td>The Dark Knight</td>\n",
       "      <td>2008</td>\n",
       "      <td>9.0</td>\n",
       "      <td>1487023</td>\n",
       "    </tr>\n",
       "    <tr>\n",
       "      <th>149895</th>\n",
       "      <td>Inception</td>\n",
       "      <td>2010</td>\n",
       "      <td>8.8</td>\n",
       "      <td>1285905</td>\n",
       "    </tr>\n",
       "    <tr>\n",
       "      <th>122656</th>\n",
       "      <td>Fight Club</td>\n",
       "      <td>1999</td>\n",
       "      <td>8.9</td>\n",
       "      <td>1189053</td>\n",
       "    </tr>\n",
       "    <tr>\n",
       "      <th>223981</th>\n",
       "      <td>Pulp Fiction</td>\n",
       "      <td>1994</td>\n",
       "      <td>8.9</td>\n",
       "      <td>1177471</td>\n",
       "    </tr>\n",
       "  </tbody>\n",
       "</table>\n",
       "</div>"
      ],
      "text/plain": [
       "                           Title  Year  Rating    Votes\n",
       "279320  The Shawshank Redemption  1994     9.3  1511933\n",
       "264590           The Dark Knight  2008     9.0  1487023\n",
       "149895                 Inception  2010     8.8  1285905\n",
       "122656                Fight Club  1999     8.9  1189053\n",
       "223981              Pulp Fiction  1994     8.9  1177471"
      ]
     },
     "execution_count": 47,
     "metadata": {},
     "output_type": "execute_result"
    }
   ],
   "source": [
    "imdb.sort_index(by=['Votes'], ascending=[False]).head()"
   ]
  },
  {
   "cell_type": "markdown",
   "metadata": {},
   "source": [
    "#### Name the .ipynb file with file name 'lab02_lastname_firstname', and upload to Canvas under [w2] lab assingment.\n"
   ]
  },
  {
   "cell_type": "markdown",
   "metadata": {},
   "source": [
    "# Part 2. html and css"
   ]
  },
  {
   "cell_type": "markdown",
   "metadata": {},
   "source": [
    "## 1. Set up a local web server"
   ]
  },
  {
   "cell_type": "markdown",
   "metadata": {
    "collapsed": false
   },
   "source": [
    "Many browsers don't allow loading files locally due to security concerns. We can get around by creating a local web server with Python by the following:\n",
    "\n",
    "1. Open the ‘Command Prompt’.\n",
    "2. Move to the folder where you keep your lab materials by typing ‘cd FOLDER_LOCATION‘. We will use this folder as the ‘root’ for our webserver.\n",
    "3. Then type ‘python -m SimpleHTTPServer’. \n",
    "\n",
    "If successful, you'll see\n",
    "\n",
    "*Serving HTTP on 0.0.0.0 port 8000 …*\n",
    "\n",
    "This means that now your computer is running a webserver and its IP address is 0.0.0.0 and the port is 8000. Now you can open a browser and type \"0.0.0.0:8000\" on the address bar to connect to this webserver. Equivalently, you can type \"localhost:8000\".\n",
    "After typing, click on the different links. You can directly access one of these links by typing in ‘localhost:8000/NAME_OF_YOUR_FILE.html’ in the address bar.\n"
   ]
  },
  {
   "cell_type": "markdown",
   "metadata": {},
   "source": [
    "## 2. html review"
   ]
  },
  {
   "cell_type": "markdown",
   "metadata": {},
   "source": [
    "Webpages are written in a standard markup language called HTML (HyperText Markup Language). The basic syntax of HTML consists of elements enclosed within ‘<’ and ‘>’ symbols. Browsers such as Firefox and Chrome parse these tags and display the content of a webpage in the designated format. This is called rendering.\n",
    "\n",
    "Here is a list of important tags and their descriptions. \n",
    "\n",
    "- html - Surrounds the entire document.\n",
    "- head - Contains info about the document itself. E.g. the title, any external stylesheets or scripts, etc.\n",
    "- title - Assigns title to page. This title is used while bookmarking.\n",
    "- body - The main part of the document.\n",
    "- h1, h2, h3, h4, h5, h6 - Headings (Smaller the number, larger the size).\n",
    "- p - Paragraph.\n",
    "- br - Line break.\n",
    "- em - emphasize text.\n",
    "- strong or b - Bold font.\n",
    "- a - Defines a hyperlink and allows you to link out to the other webpages.\n",
    "- img - Place an image.\n",
    "- ul, ol, li - Unordered lists with bullets, ordered lists with numbers and each item in list respectively.\n",
    "- table, th, td, tr - Make a table, specifying contents of each cell.\n",
    "- <!--> - Comments – will not be displayed.\n",
    "- span - This will not visibly change anything on the webpage. But it is important while referencing in CSS or JavaScript.. It spans a section of text, say, within a paragraph.\n",
    "- div - This will not visibly change anything on the webpage. But it is important while referencing in CSS or JavaScript. It stands for division and allocates a section of a page."
   ]
  },
  {
   "cell_type": "markdown",
   "metadata": {},
   "source": [
    "<b>Use the top 5 voted movies found in the first part, try the following:</b>\n",
    "\n",
    "1. Create a table with the following columns: Movie Title, Year, Rating, Votes.\n",
    "2. Create a link with each movie title to its IMDB page.\n",
    "3. Add a title for the table. Can you change its font and set it to bold?\n",
    "4. Change the background color of the page.\n",
    "5. Add an entry of your favorite movie to the table. Can you set the text to a different color to highlight it?"
   ]
  },
  {
   "cell_type": "markdown",
   "metadata": {},
   "source": [
    "Test your code by visiting the web page on your local server. <b>Name the .html file with file name 'lab02_html_lastname_firstname', and upload to Canvas.<b>"
   ]
  },
  {
   "cell_type": "markdown",
   "metadata": {},
   "source": [
    "## 3. CSS review"
   ]
  },
  {
   "cell_type": "markdown",
   "metadata": {},
   "source": [
    "While HTML directly deals with the content and structure, CSS (Cascading Style Sheets) is the primary language that is used for the look and formatting of a web document. \n",
    "\n",
    "A CSS stylesheet consists of one or more selectors, properties and values.\n",
    "For example:\n",
    "```\n",
    "body {   \n",
    "\tbackground-color: white;   \n",
    "\tcolor: steelblue;   \n",
    "}```\n",
    "\n",
    "Selectors are the HTML elements to which the specific styles (combination of properties and values) will be applied. In the above example, all text within the ‘body’ tags will be in steelblue.\n",
    "\n",
    "There are three ways to include CSS code in HTML. This is called ‘referencing’.\n",
    "\n",
    "Embed CSS in HTML - You can place the CSS code within ‘style’ tags inside the ‘head’ tags. This way you can keep everything within a single HTML file but does make the code lengthy.\n",
    "```\n",
    "<head>\n",
    "  <style type=\"text/css\">\n",
    "      .description {\n",
    "      font: 16px times-new-roman;\n",
    "      }\n",
    "      .viz {\n",
    "      font: 10px sans-serif;\n",
    "      } \n",
    "    </style>\n",
    "</head>\n",
    "```\n",
    "Reference an external stylesheet from HTML - This is a much cleaner way but results in the creation of another file. To do this, you can copy the CSS code into a text file and save it as a ‘.css’ file in the same folder as the HTML file. In the document head in the HTML code, you can then do the following:\n",
    "```\n",
    "<head>\n",
    "  <link rel=”stylesheet” href=”stylesheet.css”>\n",
    "</head>\n",
    "```\n",
    "\n",
    "Attach inline styles - You can also directly attach the styles in-line along with the main HTML code in the body. This makes it easy to customize specific elements but makes the code very messy - the design and content get mixed up.\n",
    "```\n",
    "<p style=”color: green; font-size:36px; font-weight:bold;”>\n",
    "  Inline styles can help when using D3.\n",
    "</p>\n",
    "```"
   ]
  },
  {
   "cell_type": "markdown",
   "metadata": {},
   "source": [
    "Can you redo questions 3-5 in the previous section with only css?  <b>Name the .ipynb file with file name 'lab02_css_lastname_firstname', and upload to Canvas. <b>"
   ]
  },
  {
   "cell_type": "code",
   "execution_count": null,
   "metadata": {
    "collapsed": true
   },
   "outputs": [],
   "source": []
  }
 ],
 "metadata": {
  "kernelspec": {
   "display_name": "Python 3",
   "language": "python",
   "name": "python3"
  },
  "language_info": {
   "codemirror_mode": {
    "name": "ipython",
    "version": 3
   },
   "file_extension": ".py",
   "mimetype": "text/x-python",
   "name": "python",
   "nbconvert_exporter": "python",
   "pygments_lexer": "ipython3",
   "version": "3.5.2"
  }
 },
 "nbformat": 4,
 "nbformat_minor": 0
}
