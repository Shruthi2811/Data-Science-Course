{
 "cells": [
  {
   "cell_type": "code",
   "execution_count": 1,
   "metadata": {
    "collapsed": true
   },
   "outputs": [],
   "source": [
    "import math\n",
    "import operator\n",
    "from random import random \n",
    "\n",
    "path = 'data/iris.data'"
   ]
  },
  {
   "cell_type": "code",
   "execution_count": 2,
   "metadata": {
    "collapsed": false
   },
   "outputs": [
    {
     "name": "stdout",
     "output_type": "stream",
     "text": [
      "2.8284271247461903\n"
     ]
    }
   ],
   "source": [
    "def euclidean_distance(data1,data2):\n",
    "    result = 0.0\n",
    "    for val in range(len(data2)-1):\n",
    "        result += (data1[val]-data2[val])**2\n",
    "    return math.sqrt(result)\n",
    "\n",
    "data1 = [2, 2, 2, 'a']\n",
    "data2 = [4, 4, 4]\n",
    "print(euclidean_distance(data1,data2))"
   ]
  },
  {
   "cell_type": "code",
   "execution_count": 3,
   "metadata": {
    "collapsed": false
   },
   "outputs": [
    {
     "name": "stdout",
     "output_type": "stream",
     "text": [
      "[[4, 4, 4, 'b'], [2, 2, 2, 'a']]\n"
     ]
    }
   ],
   "source": [
    "def knn(train,test,k):\n",
    "    dist,neighbors = [],[]\n",
    "    for i in range(len(train)):\n",
    "        distance= euclidean_distance(train[i],test)\n",
    "        dist.append((train[i],distance))\n",
    "        dist.sort(key=operator.itemgetter(1))\n",
    "    for i in range(k):\n",
    "        neighbors.append(dist[i][0])\n",
    "    return neighbors\n",
    "\n",
    "train= [[2, 2, 2, 'a'], [4, 4, 4, 'b']]\n",
    "test= [5, 5, 5]\n",
    "neighbors = knn(train, test, 2)\n",
    "print(neighbors)"
   ]
  },
  {
   "cell_type": "code",
   "execution_count": 4,
   "metadata": {
    "collapsed": false
   },
   "outputs": [
    {
     "name": "stdout",
     "output_type": "stream",
     "text": [
      "b\n"
     ]
    }
   ],
   "source": [
    "def majorityVote(neighbors):\n",
    "    vote = {}\n",
    "    for i in range(len(neighbors)):\n",
    "        lst = neighbors[i][-1]\n",
    "        if lst in vote:\n",
    "            vote[lst]+=1\n",
    "        else:\n",
    "            vote[lst]=1\n",
    "    majority = max(vote.items(), key=operator.itemgetter(1))[0]\n",
    "    return majority\n",
    "train= [[2, 2, 2, 'a'], [4, 4, 4, 'b'],[1,1,1,'a'], [3,3,3,'b']]\n",
    "test= [5, 5, 5]\n",
    "neighbors = knn(train, test, 2)\n",
    "print(majorityVote(neighbors))"
   ]
  },
  {
   "cell_type": "code",
   "execution_count": 5,
   "metadata": {
    "collapsed": true
   },
   "outputs": [],
   "source": [
    "def accuracy(test,predictions):\n",
    "    result = 0\n",
    "    for i in range(len(test)):\n",
    "        if test[i][-1] == predictions[i]: result+=1\n",
    "    return ((result/float(len(test)))*100)"
   ]
  },
  {
   "cell_type": "code",
   "execution_count": 6,
   "metadata": {
    "collapsed": false
   },
   "outputs": [],
   "source": [
    "def traintest(data,split,train,test):\n",
    "    for x in range(len(data)-1):\n",
    "        for y in range(4):\n",
    "            data[x][y] = float(data[x][y])\n",
    "        if random() < split:\n",
    "            train.append(data[x])\n",
    "        else:\n",
    "            test.append(data[x])    "
   ]
  },
  {
   "cell_type": "code",
   "execution_count": 7,
   "metadata": {
    "collapsed": false
   },
   "outputs": [
    {
     "name": "stdout",
     "output_type": "stream",
     "text": [
      "Please enter value of k:\t4\n",
      "Please enter the percentage split:\t80\n"
     ]
    }
   ],
   "source": [
    "k = int(input(\"Please enter value of k:\\t\"))\n",
    "split = int(input(\"Please enter the percentage split:\\t\"))\n",
    "split = (split/100)"
   ]
  },
  {
   "cell_type": "code",
   "execution_count": 8,
   "metadata": {
    "collapsed": false
   },
   "outputs": [
    {
     "name": "stdout",
     "output_type": "stream",
     "text": [
      "Train set:\t 122\n",
      "Test set:\t 27\n"
     ]
    }
   ],
   "source": [
    "data=[line.strip().split(',') for line in open(path)]\n",
    "train,test,predictions = [],[],[]\n",
    "traintest(data,split,train,test)\n",
    "print ('Train set:\\t',len(train))\n",
    "print ('Test set:\\t',len(test))"
   ]
  },
  {
   "cell_type": "code",
   "execution_count": 9,
   "metadata": {
    "collapsed": false
   },
   "outputs": [
    {
     "name": "stdout",
     "output_type": "stream",
     "text": [
      "predicted = Iris-setosa, actual = Iris-setosa\n",
      "predicted = Iris-setosa, actual = Iris-setosa\n",
      "predicted = Iris-setosa, actual = Iris-setosa\n",
      "predicted = Iris-setosa, actual = Iris-setosa\n",
      "predicted = Iris-setosa, actual = Iris-setosa\n",
      "predicted = Iris-setosa, actual = Iris-setosa\n",
      "predicted = Iris-versicolor, actual = Iris-versicolor\n",
      "predicted = Iris-versicolor, actual = Iris-versicolor\n",
      "predicted = Iris-versicolor, actual = Iris-versicolor\n",
      "predicted = Iris-versicolor, actual = Iris-versicolor\n",
      "predicted = Iris-versicolor, actual = Iris-versicolor\n",
      "predicted = Iris-versicolor, actual = Iris-versicolor\n",
      "predicted = Iris-versicolor, actual = Iris-versicolor\n",
      "predicted = Iris-versicolor, actual = Iris-versicolor\n",
      "predicted = Iris-versicolor, actual = Iris-versicolor\n",
      "predicted = Iris-versicolor, actual = Iris-versicolor\n",
      "predicted = Iris-versicolor, actual = Iris-versicolor\n",
      "predicted = Iris-virginica, actual = Iris-virginica\n",
      "predicted = Iris-versicolor, actual = Iris-virginica\n",
      "predicted = Iris-virginica, actual = Iris-virginica\n",
      "predicted = Iris-virginica, actual = Iris-virginica\n",
      "predicted = Iris-virginica, actual = Iris-virginica\n",
      "predicted = Iris-virginica, actual = Iris-virginica\n",
      "predicted = Iris-virginica, actual = Iris-virginica\n",
      "predicted = Iris-virginica, actual = Iris-virginica\n",
      "predicted = Iris-virginica, actual = Iris-virginica\n",
      "predicted = Iris-virginica, actual = Iris-virginica\n"
     ]
    }
   ],
   "source": [
    "for i in range(len(test)):\n",
    "    neighbors = knn(train,test[i],k)\n",
    "    responses = majorityVote(neighbors)\n",
    "    predictions.append(responses)\n",
    "    print('predicted = %s, actual = %s'%(responses,test[i][-1]))    "
   ]
  },
  {
   "cell_type": "code",
   "execution_count": 10,
   "metadata": {
    "collapsed": false
   },
   "outputs": [
    {
     "name": "stdout",
     "output_type": "stream",
     "text": [
      "Accuracy: 96.29629629629629%\n"
     ]
    }
   ],
   "source": [
    "acc = accuracy(test, predictions)\n",
    "print('Accuracy: ' + repr(acc) + '%')"
   ]
  }
 ],
 "metadata": {
  "anaconda-cloud": {},
  "kernelspec": {
   "display_name": "Python [default]",
   "language": "python",
   "name": "python3"
  },
  "language_info": {
   "codemirror_mode": {
    "name": "ipython",
    "version": 3
   },
   "file_extension": ".py",
   "mimetype": "text/x-python",
   "name": "python",
   "nbconvert_exporter": "python",
   "pygments_lexer": "ipython3",
   "version": "3.5.2"
  }
 },
 "nbformat": 4,
 "nbformat_minor": 1
}
