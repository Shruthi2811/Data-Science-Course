{
 "metadata": {
  "name": "",
  "signature": "sha256:418d45ab4b56e0274aaa066629211347632872b4223a1010df60483486cdf4a2"
 },
 "nbformat": 3,
 "nbformat_minor": 0,
 "worksheets": [
  {
   "cells": [
    {
     "cell_type": "heading",
     "level": 1,
     "metadata": {},
     "source": [
      "Linear Regression with one variable.\n",
      "Course: Machine Learning\n",
      "Prof.: Andrew Ng"
     ]
    },
    {
     "cell_type": "code",
     "collapsed": false,
     "input": [
      "import numpy as np\n",
      "import pandas as pd\n",
      "import matplotlib.pyplot as plt\n",
      "%matplotlib inline"
     ],
     "language": "python",
     "metadata": {},
     "outputs": [],
     "prompt_number": 1
    },
    {
     "cell_type": "code",
     "collapsed": false,
     "input": [
      "data = np.loadtxt('/home/alien/Desktop/ML/ex1data1.txt', delimiter=',')"
     ],
     "language": "python",
     "metadata": {},
     "outputs": [],
     "prompt_number": 2
    },
    {
     "cell_type": "code",
     "collapsed": false,
     "input": [
      "y = data[:,1]\n",
      "m = len(y)\n",
      "x = data[:,0]\n",
      "X = np.ones(shape = (m,2))\n",
      "X[:,1] = x\n",
      "theta = np.zeros(shape = (2,1))"
     ],
     "language": "python",
     "metadata": {},
     "outputs": [],
     "prompt_number": 3
    },
    {
     "cell_type": "code",
     "collapsed": false,
     "input": [
      "def computeCost(x,y,theta):\n",
      "    m = len(y)\n",
      "    h = x.dot(theta)\n",
      "    square_errors = (h - y)**2\n",
      "    J = (1.0/(2*m)) * square_errors.sum()\n",
      "    return J"
     ],
     "language": "python",
     "metadata": {},
     "outputs": [],
     "prompt_number": 4
    },
    {
     "cell_type": "code",
     "collapsed": false,
     "input": [
      "def gradientDescent(X, y, theta, alpha, iterations):\n",
      "    m = len(y)\n",
      "    J_history = np.zeros(shape = (iterations,1))\n",
      "    for i in range(iterations):\n",
      "        \n",
      "        predictions = X.dot(theta).flatten()\n",
      "\n",
      "        errors_x1 = (predictions - y) * X[:, 0]\n",
      "        errors_x2 = (predictions - y) * X[:, 1]\n",
      "\n",
      "        theta[0][0] = theta[0][0] - alpha * (1.0 / m) * errors_x1.sum()\n",
      "        theta[1][0] = theta[1][0] - alpha * (1.0 / m) * errors_x2.sum()\n",
      "\n",
      "        J_history[i, 0] = computeCost(X, y, theta)\n",
      "\n",
      "    return theta, J_history "
     ],
     "language": "python",
     "metadata": {},
     "outputs": [],
     "prompt_number": 5
    },
    {
     "cell_type": "code",
     "collapsed": false,
     "input": [
      "print computeCost(X, y, theta)\n",
      "theta, J_history = gradientDescent(X,y,theta,0.01,1500)"
     ],
     "language": "python",
     "metadata": {},
     "outputs": [
      {
       "output_type": "stream",
       "stream": "stdout",
       "text": [
        "3111.05518611\n"
       ]
      }
     ],
     "prompt_number": 6
    },
    {
     "cell_type": "code",
     "collapsed": false,
     "input": [
      "print 'For population = 35,000, we predict a profit of %f' % (np.array([1, 3.5]).dot(theta) * 10000)"
     ],
     "language": "python",
     "metadata": {},
     "outputs": [
      {
       "output_type": "stream",
       "stream": "stdout",
       "text": [
        "For population = 35,000, we predict a profit of 4519.767868\n"
       ]
      }
     ],
     "prompt_number": 7
    },
    {
     "cell_type": "code",
     "collapsed": false,
     "input": [
      "print 'For population = 70,000, we predict a profit of %f' % (np.array([1, 7]).dot(theta) * 10000)"
     ],
     "language": "python",
     "metadata": {},
     "outputs": [
      {
       "output_type": "stream",
       "stream": "stdout",
       "text": [
        "For population = 70,000, we predict a profit of 45342.450129\n"
       ]
      }
     ],
     "prompt_number": 8
    },
    {
     "cell_type": "code",
     "collapsed": false,
     "input": [
      "plt.scatter(data[:, 0], data[:, 1], marker='o', c='b')\n",
      "plt.title('Profits distribution')\n",
      "plt.xlabel('Population of City in 10,000s')\n",
      "plt.ylabel('Profit in $10,000s')"
     ],
     "language": "python",
     "metadata": {},
     "outputs": [
      {
       "metadata": {},
       "output_type": "pyout",
       "prompt_number": 10,
       "text": [
        "<matplotlib.text.Text at 0x7f08e6972690>"
       ]
      },
      {
       "metadata": {},
       "output_type": "display_data",
       "png": "[encoded data removed]",
       "text": [
        "<matplotlib.figure.Figure at 0x7f08e69b1a10>"
       ]
      }
     ],
     "prompt_number": 10
    },
    {
     "cell_type": "code",
     "collapsed": false,
     "input": [
      "#References: https://gist.github.com/marcelcaraciolo/1321575"
     ],
     "language": "python",
     "metadata": {},
     "outputs": []
    }
   ],
   "metadata": {}
  }
 ]
}