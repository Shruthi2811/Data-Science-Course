{
 "cells": [
  {
   "cell_type": "code",
   "execution_count": null,
   "metadata": {
    "collapsed": true
   },
   "outputs": [],
   "source": [
    "import warnings\n",
    "import numpy as np\n",
    "import pandas as pd\n",
    "import seaborn as sns\n",
    "from scipy import interp\n",
    "from itertools import cycle\n",
    "from sklearn.svm import LinearSVC\n",
    "import matplotlib.pyplot as plt\n",
    "from sklearn.metrics import roc_curve,auc\n",
    "from sklearn.naive_bayes import GaussianNB\n",
    "from sklearn.metrics import accuracy_score\n",
    "from sklearn.metrics import confusion_matrix\n",
    "from sklearn.preprocessing import LabelEncoder\n",
    "from sklearn.metrics import classification_report\n",
    "from sklearn.neighbors import KNeighborsClassifier\n",
    "from sklearn.ensemble import RandomForestClassifier\n",
    "from sklearn.linear_model import LogisticRegression\n",
    "from sklearn.model_selection import train_test_split\n",
    "from sklearn.model_selection import cross_val_score, StratifiedKFold\n",
    "\n",
    "%matplotlib inline\n",
    "warnings.filterwarnings('ignore')"
   ]
  },
  {
   "cell_type": "code",
   "execution_count": null,
   "metadata": {
    "collapsed": true
   },
   "outputs": [],
   "source": [
    "def algorithm(algoname,colors,train,test,pos):\n",
    "    mean_tpr,lw,i =0.0, 2,1\n",
    "    mean_fpr = np.linspace(0, 1, 100)\n",
    "    fold_accuracy= []\n",
    "    skfold = StratifiedKFold(n_splits=10,shuffle = True)\n",
    "    for (trainindex,testindex), color in zip(skfold.split(train, test.values.ravel()), colors):\n",
    "        X_train, X_test = train.loc[trainindex], train.loc[testindex]\n",
    "        y_train, y_test = test.loc[trainindex], test.loc[testindex]\n",
    "        model = algoname.fit(X_train,y_train.values.ravel())\n",
    "        fold_accuracy.append(model.score(X_test,y_test.values.ravel()))\n",
    "        result = model.predict(X_test)\n",
    "        fpr, tpr, thresholds= roc_curve(y_test.values,result,pos_label=pos)\n",
    "        mean_tpr += interp(mean_fpr, fpr, tpr)\n",
    "        mean_tpr[0] = 0.0\n",
    "        roc_auc = auc(fpr, tpr)\n",
    "        #plt.step(fpr, tpr, lw=lw, color=color,label='ROC fold %d (area = %0.2f)' % (i, roc_auc))\n",
    "        i+=1\n",
    "    mean_tpr /= skfold.get_n_splits(train,test.values.ravel())\n",
    "    mean_tpr[-1] = 1.0\n",
    "    mean_auc = auc(mean_fpr, mean_tpr)\n",
    "    plt.step(mean_fpr, mean_tpr, color='g', linestyle='--',\n",
    "             label='Mean ROC (area = %0.2f)' % mean_auc, lw=lw)\n",
    "    plt.title(\"Average accuracy: {0:.3f}\".format(np.asarray(fold_accuracy).mean()))\n",
    "    plt.xlim([-0.05, 1.05])\n",
    "    plt.ylim([-0.05, 1.05])\n",
    "    plt.xlabel('FPR')\n",
    "    plt.ylabel('TPR')\n",
    "    plt.legend(loc=\"lower right\") \n",
    "    return (\"Average accuracy: {0:.3f} (+/-{1:.3f})\".format(np.asarray(fold_accuracy).mean(),\\\n",
    "                                                            np.asarray(fold_accuracy).std()))    "
   ]
  },
  {
   "cell_type": "code",
   "execution_count": null,
   "metadata": {
    "collapsed": true
   },
   "outputs": [],
   "source": [
    "import math\n",
    "import operator\n",
    "def euclidean_distance(data1,data2):\n",
    "    result = 0.0\n",
    "    for val in range(len(data2)):\n",
    "        result += (data1[val]-data2[val])**2\n",
    "    return math.sqrt(result)\n",
    "def knn(train,test,k):\n",
    "    dist,kneighbors = [],[]\n",
    "    for a,c in train.iterrows():\n",
    "        distance = euclidean_distance(c,test)\n",
    "        dist.append((c,distance))\n",
    "        dist.sort(key=operator.itemgetter(1))\n",
    "    for i in range(k):\n",
    "        kneighbors.append(dist[i][0])\n",
    "    return kneighbors  \n",
    "def majorityVote(kneighbors):\n",
    "    vote = {}\n",
    "    for i in range(len(kneighbors)):\n",
    "        lst = kneighbors[i][-1]\n",
    "        if lst in vote:\n",
    "            vote[lst]+=1\n",
    "        else:\n",
    "            vote[lst]=1\n",
    "    majority = max(vote.items(), key=operator.itemgetter(1))[0]\n",
    "    return majority"
   ]
  },
  {
   "cell_type": "code",
   "execution_count": null,
   "metadata": {
    "collapsed": true
   },
   "outputs": [],
   "source": [
    "estimators = [10,100,300,600,800,1000]\n",
    "depth = [1,2,50,100,300,800,None]\n",
    "features = ['auto','sqrt',0.2]\n",
    "min_sampleleaf = [1,5,10,50,100,200,500]\n",
    "randomstate = [1,50,100,500,None]\n",
    "colors = cycle(['brown','lightcoral','red','magenta','cyan', 'indigo', 'seagreen', 'yellow', 'blue', 'darkorange'])\n",
    "penalties = ['l1','l2']\n",
    "cvalue = [1.0,0.1,0.5,0.8,0.9]\n",
    "solve = ['newton-cg', 'lbfgs', 'liblinear', 'sag']\n",
    "tolerance = []\n",
    "classweight = ['balanced',None]\n",
    "max_iter = [10,100,500,1000]\n",
    "randomState = [None,10,100,500,1000,1024]\n",
    "neighbors = [5,10,50,100]\n",
    "weight = ['uniform','distance']\n",
    "algo = ['auto', 'ball_tree', 'kd_tree', 'brute']\n",
    "dual = [True,False]"
   ]
  },
  {
   "cell_type": "code",
   "execution_count": null,
   "metadata": {
    "collapsed": true
   },
   "outputs": [],
   "source": [
    "default = pd.read_excel('default of credit card clients.xls',skiprows=1)\n",
    "default=default.rename(columns = {'default payment next month':'default'})\n",
    "default.info()"
   ]
  },
  {
   "cell_type": "code",
   "execution_count": null,
   "metadata": {
    "collapsed": true
   },
   "outputs": [],
   "source": [
    "default_train,default_test = default.iloc[:,1:len(default.columns)-1],default.iloc[:,len(default.columns)-1]\n",
    "default['default'].value_counts()"
   ]
  },
  {
   "cell_type": "code",
   "execution_count": null,
   "metadata": {
    "collapsed": true
   },
   "outputs": [],
   "source": [
    "plt.figure(figsize=(15,8))\n",
    "\n",
    "for i in range(len(estimators)):\n",
    "    forest = RandomForestClassifier(n_estimators=estimators[i], n_jobs=-1)\n",
    "    plt.subplot(2,3,i+1)\n",
    "    print(algorithm(forest,colors,default_train,default_test,pos = None),\"estimators: \",estimators[i])\n",
    "plt.tight_layout(pad=0.4, w_pad=0.5, h_pad=1.0)   "
   ]
  },
  {
   "cell_type": "code",
   "execution_count": null,
   "metadata": {
    "collapsed": true
   },
   "outputs": [],
   "source": [
    "plt.figure(figsize=(15,8))\n",
    "for i in range(len(depth)):\n",
    "    forest = RandomForestClassifier(n_estimators=600, n_jobs=-1, max_depth = depth[i])\n",
    "    plt.subplot(4,2,i+1)\n",
    "    print(algorithm(forest,colors,default_train,default_test,pos = None),\"maximum depth: \",depth[i])\n",
    "plt.tight_layout(pad=0.4, w_pad=0.5, h_pad=1.0)  "
   ]
  },
  {
   "cell_type": "code",
   "execution_count": null,
   "metadata": {
    "collapsed": true
   },
   "outputs": [],
   "source": [
    "plt.figure(figsize=(15,8))\n",
    "for i in range(len(features)):\n",
    "    forest = RandomForestClassifier(n_estimators=600, n_jobs=-1, max_depth = 800,   \\\n",
    "                                    max_features = features[i])\n",
    "    plt.subplot(2,3,i+1)\n",
    "    print(algorithm(forest,colors,default_train,default_test,pos = None),\"max features: \",features[i])\n",
    "plt.tight_layout(pad=0.4, w_pad=0.5, h_pad=1.0)    "
   ]
  },
  {
   "cell_type": "code",
   "execution_count": null,
   "metadata": {
    "collapsed": true
   },
   "outputs": [],
   "source": [
    "plt.figure(figsize=(15,8))\n",
    "for i in range(len(min_sampleleaf)):\n",
    "    forest = RandomForestClassifier(n_estimators=600, n_jobs=-1, max_depth = 800,max_features = 'auto',  \\\n",
    "                                    min_samples_leaf =min_sampleleaf[i] )\n",
    "    plt.subplot(4,2,i+1)\n",
    "    print(algorithm(forest,colors,default_train,default_test,pos = None),\"min sample leaf: \",min_sampleleaf[i])\n",
    "plt.tight_layout(pad=0.4, w_pad=0.5, h_pad=1.0) "
   ]
  },
  {
   "cell_type": "code",
   "execution_count": null,
   "metadata": {
    "collapsed": true
   },
   "outputs": [],
   "source": [
    "plt.figure(figsize=(15,8))\n",
    "for i in range(len(randomstate)):\n",
    "    forest = RandomForestClassifier(n_estimators=600, n_jobs=-1, max_depth = 800,max_features = 'auto',  \\\n",
    "                                    min_samples_leaf =50,random_state=randomstate[i] )\n",
    "    plt.subplot(4,2,i+1)\n",
    "    print(algorithm(forest,colors,default_train,default_test,pos = None),\"random state: \",randomstate[i])\n",
    "plt.tight_layout(pad=0.4, w_pad=0.5, h_pad=1.0)    "
   ]
  },
  {
   "cell_type": "code",
   "execution_count": null,
   "metadata": {
    "collapsed": true
   },
   "outputs": [],
   "source": [
    "forest = RandomForestClassifier(n_estimators=600, n_jobs=-1, max_depth = 800,max_features = 'auto',   \\\n",
    "                                min_samples_leaf =50,random_state = None)\n",
    "print(algorithm(forest,colors,default_train,default_test,pos = None))"
   ]
  },
  {
   "cell_type": "code",
   "execution_count": null,
   "metadata": {
    "collapsed": true
   },
   "outputs": [],
   "source": [
    "plt.figure(figsize=(15,8))\n",
    "for i in range(len(penalties)):\n",
    "    logistic = LogisticRegression(n_jobs = -1, penalty= penalties[i])\n",
    "    plt.subplot(3,2,i+1)\n",
    "    print(algorithm(logistic,colors,default_train,default_test,pos = None),\"Penalty: \",penalties[i])\n",
    "plt.tight_layout(pad=0.4, w_pad=0.5, h_pad=1.0)  "
   ]
  },
  {
   "cell_type": "code",
   "execution_count": null,
   "metadata": {
    "collapsed": true
   },
   "outputs": [],
   "source": [
    "plt.figure(figsize=(15,8))\n",
    "for i in range(len(solve)):\n",
    "    logistic = LogisticRegression(n_jobs = -1, penalty= 'l2',  solver = solve[i])\n",
    "    plt.subplot(2,3,i+1)\n",
    "    print(algorithm(logistic,colors,default_train,default_test,pos = None),\"Solver: \",solve[i])\n",
    "plt.tight_layout(pad=0.4, w_pad=0.5, h_pad=1.0)"
   ]
  },
  {
   "cell_type": "code",
   "execution_count": null,
   "metadata": {
    "collapsed": true
   },
   "outputs": [],
   "source": [
    "plt.figure(figsize=(15,8))\n",
    "for i in range(len(cvalue)):\n",
    "    logistic = LogisticRegression(n_jobs = -1, penalty= 'l2', solver = 'liblinear', C = cvalue[i])\\\n",
    "    \n",
    "    plt.subplot(2,3,i+1)\n",
    "    print(algorithm(logistic,colors,default_train,default_test,pos = None),\"C: \",cvalue[i])\n",
    "plt.tight_layout(pad=0.4, w_pad=0.5, h_pad=1.0)"
   ]
  },
  {
   "cell_type": "code",
   "execution_count": null,
   "metadata": {
    "collapsed": true
   },
   "outputs": [],
   "source": [
    "plt.figure(figsize=(15,8))\n",
    "for i in range(len(classweight)):\n",
    "    logistic = LogisticRegression(n_jobs = -1, penalty= 'l2', C = 0.5 , solver = 'liblinear',  \\\n",
    "                                  class_weight = classweight[i])\n",
    "    plt.subplot(2,3,i+1)\n",
    "    print(algorithm(logistic,colors,default_train,default_test,pos = None),\"Class Weight: \",classweight[i])\n",
    "plt.tight_layout(pad=0.4, w_pad=0.5, h_pad=1.0) "
   ]
  },
  {
   "cell_type": "code",
   "execution_count": null,
   "metadata": {
    "collapsed": true
   },
   "outputs": [],
   "source": [
    "plt.figure(figsize=(15,8))\n",
    "for i in range(len(max_iter)):\n",
    "    logistic = LogisticRegression(n_jobs = -1, penalty= 'l2', C = 0.5 , solver = 'liblinear', \\\n",
    "                                  class_weight = None ,max_iter = max_iter[i])\n",
    "    plt.subplot(2,3,i+1)\n",
    "    print(algorithm(logistic,colors,default_train,default_test,pos = None),\"Max iterations: \",max_iter[i])\n",
    "plt.tight_layout(pad=0.4, w_pad=0.5, h_pad=1.0) "
   ]
  },
  {
   "cell_type": "code",
   "execution_count": null,
   "metadata": {
    "collapsed": true
   },
   "outputs": [],
   "source": [
    "plt.figure(figsize=(15,8))\n",
    "for i in range(len(randomState)):\n",
    "    logistic = LogisticRegression(n_jobs = -1, penalty= 'l2', C = 0.5 , solver = 'liblinear', \\\n",
    "                                  class_weight = None,random_state = randomState[i])\n",
    "    plt.subplot(2,3,i+1)\n",
    "    print(algorithm(logistic,colors,default_train,default_test,pos = None),\"Random State: \",randomState[i])\n",
    "plt.tight_layout(pad=0.4, w_pad=0.5, h_pad=1.0)"
   ]
  },
  {
   "cell_type": "code",
   "execution_count": null,
   "metadata": {
    "collapsed": true
   },
   "outputs": [],
   "source": [
    "logistic = LogisticRegression(n_jobs = -1, penalty= 'l2', C = 0.5 , solver = 'liblinear',  \\\n",
    "                              class_weight = None,random_state = 500)\n",
    "print(algorithm(logistic,colors,default_train,default_test,pos = None))"
   ]
  },
  {
   "cell_type": "code",
   "execution_count": null,
   "metadata": {
    "collapsed": true
   },
   "outputs": [],
   "source": [
    "naive = GaussianNB()\n",
    "print(algorithm(naive,colors,default_train,default_test,pos = None))"
   ]
  },
  {
   "cell_type": "code",
   "execution_count": null,
   "metadata": {
    "collapsed": true
   },
   "outputs": [],
   "source": [
    "plt.figure(figsize=(15,8))\n",
    "for i in range(len(neighbors)):\n",
    "    knneigh = KNeighborsClassifier(n_jobs = -1,n_neighbors= neighbors[i])\n",
    "    plt.subplot(2,3,i+1)\n",
    "    print(algorithm(knneigh,colors,default_train,default_test,pos = None),\"Neighbors: \",neighbors[i])\n",
    "plt.tight_layout(pad=0.4, w_pad=0.5, h_pad=1.0) "
   ]
  },
  {
   "cell_type": "code",
   "execution_count": null,
   "metadata": {
    "collapsed": true
   },
   "outputs": [],
   "source": [
    "plt.figure(figsize=(15,8))\n",
    "for i in range(len(weight)):\n",
    "    knneigh = KNeighborsClassifier(n_jobs = -1,n_neighbors=5, weights = weight[i])\n",
    "    plt.subplot(2,3,i+1)\n",
    "    print(algorithm(knneigh,colors,default_train,default_test,pos = None),\"Weights: \",weight[i])\n",
    "plt.tight_layout(pad=0.4, w_pad=0.5, h_pad=1.0) "
   ]
  },
  {
   "cell_type": "code",
   "execution_count": null,
   "metadata": {
    "collapsed": true
   },
   "outputs": [],
   "source": [
    "plt.figure(figsize=(15,8))\n",
    "for i in range(len(algo)):\n",
    "    knneigh = KNeighborsClassifier(n_jobs = -1,n_neighbors=5, weights = 'uniform', algorithm = algo[i])\n",
    "    plt.subplot(2,3,i+1)\n",
    "    print(algorithm(knneigh,colors,default_train,default_test,pos = None),\"Algorithm: \",algo[i])\n",
    "plt.tight_layout(pad=0.4, w_pad=0.5, h_pad=1.0) "
   ]
  },
  {
   "cell_type": "code",
   "execution_count": null,
   "metadata": {
    "collapsed": true
   },
   "outputs": [],
   "source": [
    "knneigh = KNeighborsClassifier(n_jobs = -1,n_neighbors=5, weights = 'uniform', algorithm = 'auto')\n",
    "print(algorithm(knneigh,colors,default_train,default_test,pos = None))"
   ]
  },
  {
   "cell_type": "code",
   "execution_count": null,
   "metadata": {
    "collapsed": true
   },
   "outputs": [],
   "source": [
    "plt.figure(figsize=(15,8))\n",
    "for i in range(len(dual)):\n",
    "    svm = LinearSVC(dual = dual[i])\n",
    "    plt.subplot(2,3,i+1)\n",
    "    print(algorithm(svm,colors,default_train,default_test,pos = None),\"Dual: \",dual[i])\n",
    "plt.tight_layout(pad=0.4, w_pad=0.5, h_pad=1.0) "
   ]
  },
  {
   "cell_type": "code",
   "execution_count": null,
   "metadata": {
    "collapsed": true
   },
   "outputs": [],
   "source": [
    "plt.figure(figsize=(15,8))\n",
    "for i in range(len(cvalue)):\n",
    "    svm = LinearSVC(dual = False, C = cvalue[i])\n",
    "    plt.subplot(2,3,i+1)\n",
    "    print(algorithm(svm,colors,default_train,default_test,pos = None),\"C: \",cvalue[i])\n",
    "plt.tight_layout(pad=0.4, w_pad=0.5, h_pad=1.0) "
   ]
  },
  {
   "cell_type": "code",
   "execution_count": null,
   "metadata": {
    "collapsed": true
   },
   "outputs": [],
   "source": [
    "plt.figure(figsize=(15,8))\n",
    "for i in range(len(penalties)):\n",
    "    svm = LinearSVC(dual = False, C = 1, penalty = penalties[i])\n",
    "    plt.subplot(2,3,i+1)\n",
    "    print(algorithm(svm,colors,default_train,default_test,pos = None),\"Penalty: \",penalties[i])\n",
    "plt.tight_layout(pad=0.4, w_pad=0.5, h_pad=1.0) "
   ]
  },
  {
   "cell_type": "code",
   "execution_count": null,
   "metadata": {
    "collapsed": true
   },
   "outputs": [],
   "source": [
    "plt.figure(figsize=(15,8))\n",
    "for i in range(len(classweight)):\n",
    "    svm = LinearSVC(dual = False, C = 1, penalty = 'l1', class_weight=classweight[i])\n",
    "    plt.subplot(2,3,i+1)\n",
    "    print(algorithm(svm,colors,default_train,default_test,pos = None),\"Class Weight: \",classweight[i])\n",
    "plt.tight_layout(pad=0.4, w_pad=0.5, h_pad=1.0) "
   ]
  },
  {
   "cell_type": "code",
   "execution_count": null,
   "metadata": {
    "collapsed": true
   },
   "outputs": [],
   "source": [
    "plt.figure(figsize=(15,8))\n",
    "for i in range(len(max_iter)):\n",
    "    svm = LinearSVC(dual = False, C = 1, penalty = 'l1', class_weight=None,max_iter=max_iter[i])\n",
    "    plt.subplot(2,3,i+1)\n",
    "    print(algorithm(svm,colors,default_train,default_test,pos = None),\"Max Iterations: \",max_iter[i])\n",
    "plt.tight_layout(pad=0.4, w_pad=0.5, h_pad=1.0) "
   ]
  },
  {
   "cell_type": "code",
   "execution_count": null,
   "metadata": {
    "collapsed": true
   },
   "outputs": [],
   "source": [
    "plt.figure(figsize=(15,8))\n",
    "for i in range(len(randomState)):\n",
    "    svm = LinearSVC(dual = False, C = 1, penalty = 'l1', class_weight=None,max_iter=1000,random_state=randomState[i])\n",
    "    plt.subplot(2,3,i+1)\n",
    "    print(algorithm(svm,colors,default_train,default_test,pos = None),\"Random State: \",randomState[i])\n",
    "plt.tight_layout(pad=0.4, w_pad=0.5, h_pad=1.0) "
   ]
  },
  {
   "cell_type": "code",
   "execution_count": null,
   "metadata": {
    "collapsed": true
   },
   "outputs": [],
   "source": [
    "svm = LinearSVC(dual = False, C = 1, penalty = 'l1', class_weight=None,max_iter=1000,random_state=1000)\n",
    "print(algorithm(svm,colors,default_train,default_test,pos = None))"
   ]
  },
  {
   "cell_type": "code",
   "execution_count": null,
   "metadata": {
    "collapsed": true
   },
   "outputs": [],
   "source": [
    "X_train, X_test, y_train, y_test = train_test_split(default.iloc[:,:-1], default.iloc[:,-1:], test_size=0.20, random_state=4212)\n",
    "train = pd.concat([X_train, y_train], axis=1)"
   ]
  },
  {
   "cell_type": "code",
   "execution_count": null,
   "metadata": {
    "collapsed": true
   },
   "outputs": [],
   "source": [
    "predictions = []\n",
    "for i,c in X_test.iterrows():\n",
    "    neigh = knn(train,c,5)\n",
    "    responses = majorityVote(neigh)\n",
    "    predictions.append(responses)\n",
    "mine_knn = pd.DataFrame( data={\"predicted\":predictions,\"actual\":y_test.values.ravel()} ) \n",
    "print (\"accuracy_score: \", accuracy_score(mine_knn['actual'],mine_knn['predicted']))"
   ]
  },
  {
   "cell_type": "code",
   "execution_count": null,
   "metadata": {
    "collapsed": true
   },
   "outputs": [],
   "source": []
  }
 ],
 "metadata": {
  "anaconda-cloud": {},
  "kernelspec": {
   "display_name": "Python [default]",
   "language": "python",
   "name": "python3"
  },
  "language_info": {
   "codemirror_mode": {
    "name": "ipython",
    "version": 3
   },
   "file_extension": ".py",
   "mimetype": "text/x-python",
   "name": "python",
   "nbconvert_exporter": "python",
   "pygments_lexer": "ipython3",
   "version": "3.5.2"
  }
 },
 "nbformat": 4,
 "nbformat_minor": 1
}
