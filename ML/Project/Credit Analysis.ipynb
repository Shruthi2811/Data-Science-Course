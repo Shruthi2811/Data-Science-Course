{
 "cells": [
  {
   "cell_type": "code",
   "execution_count": 1,
   "metadata": {
    "collapsed": false
   },
   "outputs": [],
   "source": [
    "import pandas as pd\n",
    "import seaborn as sns\n",
    "import matplotlib.pyplot as plt\n",
    "\n",
    "%matplotlib inline"
   ]
  },
  {
   "cell_type": "code",
   "execution_count": 2,
   "metadata": {
    "collapsed": false
   },
   "outputs": [],
   "source": [
    "german = pd.read_csv('german.data',header = None, sep = \" \")\n",
    "columns = ['Checking account','Duration(month)','Credit history','Purpose',\\\n",
    "           'Credit Amount','Savings/Stocks','Present employment Length',\\\n",
    "           'Installment rate','Personal status','Guarantors',\\\n",
    "           'Residing since','Property','Age(years)','Other installment plans',\\\n",
    "           'Housing','No of credits',\\\n",
    "           'Job','dependents','Telephone','foreign worker','Creditability']\n",
    "german.columns = columns"
   ]
  },
  {
   "cell_type": "code",
   "execution_count": 3,
   "metadata": {
    "collapsed": false
   },
   "outputs": [
    {
     "data": {
      "text/html": [
       "<div>\n",
       "<table border=\"1\" class=\"dataframe\">\n",
       "  <thead>\n",
       "    <tr style=\"text-align: right;\">\n",
       "      <th></th>\n",
       "      <th>Checking account</th>\n",
       "      <th>Duration(month)</th>\n",
       "      <th>Credit history</th>\n",
       "      <th>Purpose</th>\n",
       "      <th>Credit Amount</th>\n",
       "      <th>Savings/Stocks</th>\n",
       "      <th>Present employment Length</th>\n",
       "      <th>Installment rate</th>\n",
       "      <th>Personal status</th>\n",
       "      <th>Guarantors</th>\n",
       "      <th>...</th>\n",
       "      <th>Property</th>\n",
       "      <th>Age(years)</th>\n",
       "      <th>Other installment plans</th>\n",
       "      <th>Housing</th>\n",
       "      <th>No of credits</th>\n",
       "      <th>Job</th>\n",
       "      <th>dependents</th>\n",
       "      <th>Telephone</th>\n",
       "      <th>foreign worker</th>\n",
       "      <th>Creditability</th>\n",
       "    </tr>\n",
       "  </thead>\n",
       "  <tbody>\n",
       "    <tr>\n",
       "      <th>0</th>\n",
       "      <td>A11</td>\n",
       "      <td>6</td>\n",
       "      <td>A34</td>\n",
       "      <td>A43</td>\n",
       "      <td>1169</td>\n",
       "      <td>A65</td>\n",
       "      <td>A75</td>\n",
       "      <td>4</td>\n",
       "      <td>A93</td>\n",
       "      <td>A101</td>\n",
       "      <td>...</td>\n",
       "      <td>A121</td>\n",
       "      <td>67</td>\n",
       "      <td>A143</td>\n",
       "      <td>A152</td>\n",
       "      <td>2</td>\n",
       "      <td>A173</td>\n",
       "      <td>1</td>\n",
       "      <td>A192</td>\n",
       "      <td>A201</td>\n",
       "      <td>1</td>\n",
       "    </tr>\n",
       "    <tr>\n",
       "      <th>1</th>\n",
       "      <td>A12</td>\n",
       "      <td>48</td>\n",
       "      <td>A32</td>\n",
       "      <td>A43</td>\n",
       "      <td>5951</td>\n",
       "      <td>A61</td>\n",
       "      <td>A73</td>\n",
       "      <td>2</td>\n",
       "      <td>A92</td>\n",
       "      <td>A101</td>\n",
       "      <td>...</td>\n",
       "      <td>A121</td>\n",
       "      <td>22</td>\n",
       "      <td>A143</td>\n",
       "      <td>A152</td>\n",
       "      <td>1</td>\n",
       "      <td>A173</td>\n",
       "      <td>1</td>\n",
       "      <td>A191</td>\n",
       "      <td>A201</td>\n",
       "      <td>2</td>\n",
       "    </tr>\n",
       "    <tr>\n",
       "      <th>2</th>\n",
       "      <td>A14</td>\n",
       "      <td>12</td>\n",
       "      <td>A34</td>\n",
       "      <td>A46</td>\n",
       "      <td>2096</td>\n",
       "      <td>A61</td>\n",
       "      <td>A74</td>\n",
       "      <td>2</td>\n",
       "      <td>A93</td>\n",
       "      <td>A101</td>\n",
       "      <td>...</td>\n",
       "      <td>A121</td>\n",
       "      <td>49</td>\n",
       "      <td>A143</td>\n",
       "      <td>A152</td>\n",
       "      <td>1</td>\n",
       "      <td>A172</td>\n",
       "      <td>2</td>\n",
       "      <td>A191</td>\n",
       "      <td>A201</td>\n",
       "      <td>1</td>\n",
       "    </tr>\n",
       "    <tr>\n",
       "      <th>3</th>\n",
       "      <td>A11</td>\n",
       "      <td>42</td>\n",
       "      <td>A32</td>\n",
       "      <td>A42</td>\n",
       "      <td>7882</td>\n",
       "      <td>A61</td>\n",
       "      <td>A74</td>\n",
       "      <td>2</td>\n",
       "      <td>A93</td>\n",
       "      <td>A103</td>\n",
       "      <td>...</td>\n",
       "      <td>A122</td>\n",
       "      <td>45</td>\n",
       "      <td>A143</td>\n",
       "      <td>A153</td>\n",
       "      <td>1</td>\n",
       "      <td>A173</td>\n",
       "      <td>2</td>\n",
       "      <td>A191</td>\n",
       "      <td>A201</td>\n",
       "      <td>1</td>\n",
       "    </tr>\n",
       "    <tr>\n",
       "      <th>4</th>\n",
       "      <td>A11</td>\n",
       "      <td>24</td>\n",
       "      <td>A33</td>\n",
       "      <td>A40</td>\n",
       "      <td>4870</td>\n",
       "      <td>A61</td>\n",
       "      <td>A73</td>\n",
       "      <td>3</td>\n",
       "      <td>A93</td>\n",
       "      <td>A101</td>\n",
       "      <td>...</td>\n",
       "      <td>A124</td>\n",
       "      <td>53</td>\n",
       "      <td>A143</td>\n",
       "      <td>A153</td>\n",
       "      <td>2</td>\n",
       "      <td>A173</td>\n",
       "      <td>2</td>\n",
       "      <td>A191</td>\n",
       "      <td>A201</td>\n",
       "      <td>2</td>\n",
       "    </tr>\n",
       "  </tbody>\n",
       "</table>\n",
       "<p>5 rows × 21 columns</p>\n",
       "</div>"
      ],
      "text/plain": [
       "  Checking account  Duration(month) Credit history Purpose  Credit Amount  \\\n",
       "0              A11                6            A34     A43           1169   \n",
       "1              A12               48            A32     A43           5951   \n",
       "2              A14               12            A34     A46           2096   \n",
       "3              A11               42            A32     A42           7882   \n",
       "4              A11               24            A33     A40           4870   \n",
       "\n",
       "  Savings/Stocks Present employment Length  Installment rate Personal status  \\\n",
       "0            A65                       A75                 4             A93   \n",
       "1            A61                       A73                 2             A92   \n",
       "2            A61                       A74                 2             A93   \n",
       "3            A61                       A74                 2             A93   \n",
       "4            A61                       A73                 3             A93   \n",
       "\n",
       "  Guarantors      ...       Property Age(years)  Other installment plans  \\\n",
       "0       A101      ...           A121         67                     A143   \n",
       "1       A101      ...           A121         22                     A143   \n",
       "2       A101      ...           A121         49                     A143   \n",
       "3       A103      ...           A122         45                     A143   \n",
       "4       A101      ...           A124         53                     A143   \n",
       "\n",
       "  Housing No of credits   Job dependents  Telephone foreign worker  \\\n",
       "0    A152             2  A173          1       A192           A201   \n",
       "1    A152             1  A173          1       A191           A201   \n",
       "2    A152             1  A172          2       A191           A201   \n",
       "3    A153             1  A173          2       A191           A201   \n",
       "4    A153             2  A173          2       A191           A201   \n",
       "\n",
       "  Creditability  \n",
       "0             1  \n",
       "1             2  \n",
       "2             1  \n",
       "3             1  \n",
       "4             2  \n",
       "\n",
       "[5 rows x 21 columns]"
      ]
     },
     "execution_count": 3,
     "metadata": {},
     "output_type": "execute_result"
    }
   ],
   "source": [
    "german.head()"
   ]
  },
  {
   "cell_type": "code",
   "execution_count": 4,
   "metadata": {
    "collapsed": false
   },
   "outputs": [
    {
     "name": "stdout",
     "output_type": "stream",
     "text": [
      "<class 'pandas.core.frame.DataFrame'>\n",
      "RangeIndex: 1000 entries, 0 to 999\n",
      "Data columns (total 21 columns):\n",
      "Checking account             1000 non-null object\n",
      "Duration(month)              1000 non-null int64\n",
      "Credit history               1000 non-null object\n",
      "Purpose                      1000 non-null object\n",
      "Credit Amount                1000 non-null int64\n",
      "Savings/Stocks               1000 non-null object\n",
      "Present employment Length    1000 non-null object\n",
      "Installment rate             1000 non-null int64\n",
      "Personal status              1000 non-null object\n",
      "Guarantors                   1000 non-null object\n",
      "Residing since               1000 non-null int64\n",
      "Property                     1000 non-null object\n",
      "Age(years)                   1000 non-null int64\n",
      "Other installment plans      1000 non-null object\n",
      "Housing                      1000 non-null object\n",
      "No of credits                1000 non-null int64\n",
      "Job                          1000 non-null object\n",
      "dependents                   1000 non-null int64\n",
      "Telephone                    1000 non-null object\n",
      "foreign worker               1000 non-null object\n",
      "Creditability                1000 non-null int64\n",
      "dtypes: int64(8), object(13)\n",
      "memory usage: 164.1+ KB\n"
     ]
    }
   ],
   "source": [
    "german.info()"
   ]
  },
  {
   "cell_type": "code",
   "execution_count": 5,
   "metadata": {
    "collapsed": false
   },
   "outputs": [
    {
     "data": {
      "text/plain": [
       "1    700\n",
       "2    300\n",
       "Name: Creditability, dtype: int64"
      ]
     },
     "execution_count": 5,
     "metadata": {},
     "output_type": "execute_result"
    }
   ],
   "source": [
    "german['Creditability'].value_counts()"
   ]
  },
  {
   "cell_type": "code",
   "execution_count": 6,
   "metadata": {
    "collapsed": false
   },
   "outputs": [
    {
     "data": {
      "text/plain": [
       "A14    394\n",
       "A11    274\n",
       "A12    269\n",
       "A13     63\n",
       "Name: Checking account, dtype: int64"
      ]
     },
     "execution_count": 6,
     "metadata": {},
     "output_type": "execute_result"
    }
   ],
   "source": [
    "german['Checking account'].value_counts()"
   ]
  },
  {
   "cell_type": "code",
   "execution_count": 7,
   "metadata": {
    "collapsed": false
   },
   "outputs": [
    {
     "data": {
      "text/plain": [
       "count     1000.000000\n",
       "mean      3271.258000\n",
       "std       2822.736876\n",
       "min        250.000000\n",
       "25%       1365.500000\n",
       "50%       2319.500000\n",
       "75%       3972.250000\n",
       "max      18424.000000\n",
       "Name: Credit Amount, dtype: float64"
      ]
     },
     "execution_count": 7,
     "metadata": {},
     "output_type": "execute_result"
    }
   ],
   "source": [
    "german['Credit Amount'].describe()"
   ]
  },
  {
   "cell_type": "code",
   "execution_count": 8,
   "metadata": {
    "collapsed": false
   },
   "outputs": [],
   "source": [
    "from sklearn.metrics import accuracy_score\n",
    "from sklearn.metrics import roc_curve,auc\n",
    "from sklearn.metrics import classification_report\n",
    "from sklearn.naive_bayes import GaussianNB\n",
    "from sklearn.ensemble import RandomForestClassifier\n",
    "from sklearn.linear_model import LogisticRegression\n",
    "from sklearn.model_selection import train_test_split\n",
    "from sklearn.metrics import confusion_matrix\n",
    "from sklearn.preprocessing import LabelEncoder\n",
    "from sklearn.model_selection import cross_val_score, StratifiedKFold\n",
    "X_train, X_test, y_train, y_test = train_test_split(german.iloc[:,:-1], german.iloc[:,-1:], test_size=0.20, random_state=4212)"
   ]
  },
  {
   "cell_type": "code",
   "execution_count": 11,
   "metadata": {
    "collapsed": false
   },
   "outputs": [],
   "source": [
    "train = german.iloc[:,:-1]\n",
    "test = german.iloc[:,-1:]\n",
    "train = train.apply(LabelEncoder().fit_transform)\n"
   ]
  },
  {
   "cell_type": "code",
   "execution_count": 12,
   "metadata": {
    "collapsed": false
   },
   "outputs": [],
   "source": [
    "X_train = X_train.apply(LabelEncoder().fit_transform)\n",
    "X_test = X_test.apply(LabelEncoder().fit_transform)"
   ]
  },
  {
   "cell_type": "markdown",
   "metadata": {},
   "source": [
    "Random Forest Classifier"
   ]
  },
  {
   "cell_type": "code",
   "execution_count": 13,
   "metadata": {
    "collapsed": false
   },
   "outputs": [],
   "source": [
    "forest = RandomForestClassifier(n_estimators=100, n_jobs=4)\n",
    "forest = forest.fit(X_train,y_train.values.ravel())\n",
    "result = forest.predict(X_test)"
   ]
  },
  {
   "cell_type": "code",
   "execution_count": 14,
   "metadata": {
    "collapsed": false
   },
   "outputs": [
    {
     "data": {
      "text/html": [
       "<div>\n",
       "<table border=\"1\" class=\"dataframe\">\n",
       "  <thead>\n",
       "    <tr style=\"text-align: right;\">\n",
       "      <th></th>\n",
       "      <th>actual</th>\n",
       "      <th>predicted</th>\n",
       "    </tr>\n",
       "  </thead>\n",
       "  <tbody>\n",
       "    <tr>\n",
       "      <th>0</th>\n",
       "      <td>2</td>\n",
       "      <td>1</td>\n",
       "    </tr>\n",
       "    <tr>\n",
       "      <th>1</th>\n",
       "      <td>1</td>\n",
       "      <td>1</td>\n",
       "    </tr>\n",
       "    <tr>\n",
       "      <th>2</th>\n",
       "      <td>1</td>\n",
       "      <td>1</td>\n",
       "    </tr>\n",
       "    <tr>\n",
       "      <th>3</th>\n",
       "      <td>2</td>\n",
       "      <td>1</td>\n",
       "    </tr>\n",
       "    <tr>\n",
       "      <th>4</th>\n",
       "      <td>1</td>\n",
       "      <td>1</td>\n",
       "    </tr>\n",
       "  </tbody>\n",
       "</table>\n",
       "</div>"
      ],
      "text/plain": [
       "   actual  predicted\n",
       "0       2          1\n",
       "1       1          1\n",
       "2       1          1\n",
       "3       2          1\n",
       "4       1          1"
      ]
     },
     "execution_count": 14,
     "metadata": {},
     "output_type": "execute_result"
    }
   ],
   "source": [
    "output = pd.DataFrame( data={\"predicted\":result,\"actual\":y_test.values.ravel()} )\n",
    "output.head()"
   ]
  },
  {
   "cell_type": "code",
   "execution_count": 15,
   "metadata": {
    "collapsed": false
   },
   "outputs": [
    {
     "name": "stdout",
     "output_type": "stream",
     "text": [
      "accuracy score:  0.73\n",
      "             precision    recall  f1-score   support\n",
      "\n",
      "       Good       0.78      0.87      0.82       143\n",
      "        Bad       0.54      0.39      0.45        57\n",
      "\n",
      "avg / total       0.71      0.73      0.72       200\n",
      "\n"
     ]
    }
   ],
   "source": [
    "print (\"accuracy score: \", accuracy_score(y_test.values,result))\n",
    "print(classification_report(y_test.values,result, target_names=['Good','Bad']))"
   ]
  },
  {
   "cell_type": "code",
   "execution_count": 16,
   "metadata": {
    "collapsed": false
   },
   "outputs": [
    {
     "data": {
      "text/plain": [
       "5040"
      ]
     },
     "execution_count": 16,
     "metadata": {},
     "output_type": "execute_result"
    }
   ],
   "source": [
    "import itertools\n",
    "estimators = [10,100,300,600,800,1000]\n",
    "depth = [1,2,50,100,300,800,10000,None]\n",
    "features = ['auto','sqrt',0.2]\n",
    "min_sampleleaf = [1,5,10,50,100,200,500]\n",
    "randomstate = [1,50,100,500,None]\n",
    "a = list(itertools.product(estimators,depth,features,min_sampleleaf,\\\n",
    "                           randomstate))\n",
    "len(a)"
   ]
  },
  {
   "cell_type": "code",
   "execution_count": 17,
   "metadata": {
    "collapsed": false
   },
   "outputs": [
    {
     "name": "stdout",
     "output_type": "stream",
     "text": [
      "accuracy score:0.73 \t estimators:10 \n",
      "accuracy score:0.72 \t estimators:100 \n",
      "accuracy score:0.755 \t estimators:300 \n",
      "accuracy score:0.75 \t estimators:600 \n",
      "accuracy score:0.745 \t estimators:800 \n",
      "accuracy score:0.755 \t estimators:1000 \n"
     ]
    }
   ],
   "source": [
    "for i in range(len(estimators)):\n",
    "    forest = RandomForestClassifier(n_estimators=estimators[i], n_jobs=4)\n",
    "    forest = forest.fit(X_train,y_train.values.ravel())\n",
    "    result = forest.predict(X_test)\n",
    "    output = pd.DataFrame( data={\"predicted\":result,\"actual\":y_test.values.ravel()} )\n",
    "    print (\"accuracy score:%s \\t estimators:%s \"%(accuracy_score(y_test.values,result),estimators[i]))"
   ]
  },
  {
   "cell_type": "code",
   "execution_count": 18,
   "metadata": {
    "collapsed": false
   },
   "outputs": [
    {
     "name": "stdout",
     "output_type": "stream",
     "text": [
      "accuracy score:0.715 \t depth:1 \n",
      "accuracy score:0.715 \t depth:2 \n",
      "accuracy score:0.74 \t depth:50 \n",
      "accuracy score:0.73 \t depth:100 \n",
      "accuracy score:0.75 \t depth:300 \n",
      "accuracy score:0.74 \t depth:800 \n",
      "accuracy score:0.735 \t depth:10000 \n",
      "accuracy score:0.745 \t depth:None \n"
     ]
    }
   ],
   "source": [
    "for i in range(len(depth)):\n",
    "    forest = RandomForestClassifier(n_estimators=300, n_jobs=4, max_depth = depth[i])\n",
    "    forest = forest.fit(X_train,y_train.values.ravel())\n",
    "    result = forest.predict(X_test)\n",
    "    output = pd.DataFrame( data={\"predicted\":result,\"actual\":y_test.values.ravel()} )\n",
    "    print (\"accuracy score:%s \\t depth:%s \"%(accuracy_score(y_test.values,result),depth[i]))"
   ]
  },
  {
   "cell_type": "code",
   "execution_count": 19,
   "metadata": {
    "collapsed": false
   },
   "outputs": [
    {
     "name": "stdout",
     "output_type": "stream",
     "text": [
      "accuracy score:0.755 \t max features:auto \n",
      "accuracy score:0.75 \t max features:sqrt \n",
      "accuracy score:0.745 \t max features:0.2 \n"
     ]
    }
   ],
   "source": [
    "for i in range(len(features)):\n",
    "    forest = RandomForestClassifier(n_estimators=300, n_jobs=4, max_depth = 100,max_features = features[i])\n",
    "    forest = forest.fit(X_train,y_train.values.ravel())\n",
    "    result = forest.predict(X_test)\n",
    "    output = pd.DataFrame( data={\"predicted\":result,\"actual\":y_test.values.ravel()} )\n",
    "    print (\"accuracy score:%s \\t max features:%s \"%(accuracy_score(y_test.values,result),features[i]))"
   ]
  },
  {
   "cell_type": "code",
   "execution_count": 20,
   "metadata": {
    "collapsed": false
   },
   "outputs": [
    {
     "name": "stdout",
     "output_type": "stream",
     "text": [
      "accuracy score:0.745 \t min sample leaf:1 \n",
      "accuracy score:0.74 \t min sample leaf:5 \n",
      "accuracy score:0.74 \t min sample leaf:10 \n",
      "accuracy score:0.715 \t min sample leaf:50 \n",
      "accuracy score:0.715 \t min sample leaf:100 \n",
      "accuracy score:0.715 \t min sample leaf:200 \n",
      "accuracy score:0.715 \t min sample leaf:500 \n"
     ]
    }
   ],
   "source": [
    "for i in range(len(min_sampleleaf)):\n",
    "    forest = RandomForestClassifier(n_estimators=300, n_jobs=4, max_depth = 100,max_features = 'auto',\\\n",
    "                                   min_samples_leaf =min_sampleleaf[i] )\n",
    "    forest = forest.fit(X_train,y_train.values.ravel())\n",
    "    result = forest.predict(X_test)\n",
    "    output = pd.DataFrame( data={\"predicted\":result,\"actual\":y_test.values.ravel()} )\n",
    "    print (\"accuracy score:%s \\t min sample leaf:%s \"%(accuracy_score(y_test.values,result),min_sampleleaf[i]))"
   ]
  },
  {
   "cell_type": "code",
   "execution_count": 21,
   "metadata": {
    "collapsed": false
   },
   "outputs": [
    {
     "name": "stdout",
     "output_type": "stream",
     "text": [
      "accuracy score:0.745 \t random state:1 \n",
      "accuracy score:0.755 \t random state:50 \n",
      "accuracy score:0.755 \t random state:100 \n",
      "accuracy score:0.77 \t random state:500 \n",
      "accuracy score:0.755 \t random state:None \n"
     ]
    },
    {
     "data": {
      "text/plain": [
       "[<matplotlib.lines.Line2D at 0x1a3c8ca4898>]"
      ]
     },
     "execution_count": 21,
     "metadata": {},
     "output_type": "execute_result"
    },
    {
     "data": {
      "image/png": "[encoded data removed]",
      "text/plain": [
       "<matplotlib.figure.Figure at 0x1a3c7c65908>"
      ]
     },
     "metadata": {},
     "output_type": "display_data"
    }
   ],
   "source": [
    "roc_auc = []\n",
    "for i in range(len(randomstate)):\n",
    "    forest = RandomForestClassifier(n_estimators=300, n_jobs=4, max_depth = 100,max_features = 'auto',\\\n",
    "                                   min_samples_leaf =10,random_state = randomstate[i] )\n",
    "    forest = forest.fit(X_train,y_train.values.ravel())\n",
    "    result = forest.predict(X_test)\n",
    "    output = pd.DataFrame( data={\"predicted\":result,\"actual\":y_test.values.ravel()} )\n",
    "    print (\"accuracy score:%s \\t random state:%s \"%(accuracy_score(y_test.values,result),randomstate[i]))\n",
    "    fpr,tpr,_ = roc_curve(y_test.values,result,pos_label=2)  \n",
    "    roc_auc.append(auc(fpr,tpr))\n",
    "plt.plot(range(0,len(roc_auc)),roc_auc)"
   ]
  },
  {
   "cell_type": "markdown",
   "metadata": {},
   "source": [
    "Best Features:"
   ]
  },
  {
   "cell_type": "code",
   "execution_count": 22,
   "metadata": {
    "collapsed": false
   },
   "outputs": [
    {
     "ename": "SyntaxError",
     "evalue": "unexpected EOF while parsing (<ipython-input-22-fdf9011e1851>, line 6)",
     "output_type": "error",
     "traceback": [
      "\u001b[0;36m  File \u001b[0;32m\"<ipython-input-22-fdf9011e1851>\"\u001b[0;36m, line \u001b[0;32m6\u001b[0m\n\u001b[0;31m    print (\"accuracy score:%s\"%(accuracy_score(y_test.values,result))\u001b[0m\n\u001b[0m                                                                     ^\u001b[0m\n\u001b[0;31mSyntaxError\u001b[0m\u001b[0;31m:\u001b[0m unexpected EOF while parsing\n"
     ]
    }
   ],
   "source": [
    "forest = RandomForestClassifier(n_estimators=300, n_jobs=4, max_depth = 100,max_features = 'auto',\\\n",
    "                                   min_samples_leaf =10,random_state = None )\n",
    "forest = forest.fit(X_train,y_train.values.ravel())\n",
    "result = forest.predict(X_test)\n",
    "output = pd.DataFrame( data={\"predicted\":result,\"actual\":y_test.values.ravel()} )\n",
    "\n",
    "print (\"accuracy score:%s\"%(accuracy_score(y_test.values,result))"
   ]
  },
  {
   "cell_type": "code",
   "execution_count": null,
   "metadata": {
    "collapsed": false
   },
   "outputs": [],
   "source": [
    "featureset = pd.DataFrame(columns = ['accuracy','estimators','max depth','max features',\\\n",
    "                                     'min_leaf','random state'])\n",
    "for i in range(len(a)):\n",
    "    forest = RandomForestClassifier(n_estimators=a[i][0],max_depth = a[i][1],\\\n",
    "                                    n_jobs=-1,max_features = a[i][2],\\\n",
    "                                    min_samples_leaf = a[i][3],random_state=a[i][4])                                   \n",
    "    forest = forest.fit(X_train,y_train.values.ravel())\n",
    "    result = forest.predict(X_test)\n",
    "    output = pd.DataFrame( data={\"predicted\":result,\"actual\":y_test.values.ravel()} )\n",
    "    #print (\"accuracy score:%s \\t estimators:%s \\t depth:%s \\t features:%s\"% (accuracy_score(y_test.values,result),a[i][0],a[i][1],a[i][2]))\n",
    "    featureset.loc[i] = [accuracy_score(y_test.values,result),a[i][0],a[i][1],a[i][2],a[i][3],a[i][4]]"
   ]
  },
  {
   "cell_type": "markdown",
   "metadata": {},
   "source": [
    "Best Feature set for Random Forest is:"
   ]
  },
  {
   "cell_type": "code",
   "execution_count": null,
   "metadata": {
    "collapsed": false
   },
   "outputs": [],
   "source": [
    "featureset[featureset['accuracy'] == max(featureset['accuracy'])]"
   ]
  },
  {
   "cell_type": "markdown",
   "metadata": {},
   "source": [
    "As seen in above table there are multiple combinations for highest accuracy. So, I will be selecting only first feature selection"
   ]
  },
  {
   "cell_type": "code",
   "execution_count": 18,
   "metadata": {
    "collapsed": false
   },
   "outputs": [
    {
     "data": {
      "text/plain": [
       "accuracy        0.78\n",
       "estimators        10\n",
       "max depth        100\n",
       "max features    sqrt\n",
       "min_leaf          10\n",
       "random state    None\n",
       "Name: 364, dtype: object"
      ]
     },
     "execution_count": 18,
     "metadata": {},
     "output_type": "execute_result"
    }
   ],
   "source": [
    "import math\n",
    "best_feature = featureset[featureset['accuracy'] == max(featureset['accuracy'])].iloc[0,:]\n",
    "import numpy as np\n",
    "best_feature[1] = int(best_feature[1])\n",
    "best_feature[2] = int(best_feature[2])\n",
    "best_feature[4] = int(best_feature[4])\n",
    "if (best_feature[5]!= None):\n",
    "    best_feature[5] = int(best_feature[5])      \n",
    "best_feature"
   ]
  },
  {
   "cell_type": "code",
   "execution_count": 19,
   "metadata": {
    "collapsed": false
   },
   "outputs": [
    {
     "data": {
      "text/plain": [
       "<matplotlib.text.Text at 0x2454088aa90>"
      ]
     },
     "execution_count": 19,
     "metadata": {},
     "output_type": "execute_result"
    },
    {
     "data": {
      "image/png": "[encoded data removed]",
      "text/plain": [
       "<matplotlib.figure.Figure at 0x2453cc50c18>"
      ]
     },
     "metadata": {},
     "output_type": "display_data"
    }
   ],
   "source": [
    "forest = RandomForestClassifier(n_estimators=best_feature[1],max_depth = best_feature[2],\\\n",
    "                                    n_jobs=-1,max_features = best_feature[3],\\\n",
    "                                    min_samples_leaf = best_feature[4],random_state=best_feature[5]) \n",
    "forest = forest.fit(X_train,y_train.values.ravel())\n",
    "result = forest.predict(X_test)\n",
    "fpr,tpr,_ = roc_curve(y_test.values,result,pos_label=2)  \n",
    "roc_auc = auc(fpr,tpr)\n",
    "plt.title('Receiver Operating Characteristic')\n",
    "plt.plot(fpr, tpr, 'b',label='AUC = %0.2f'% roc_auc)\n",
    "plt.legend(loc='lower right')\n",
    "plt.plot([0,1],[0,1],'r--')\n",
    "plt.ylabel('True Positive Rate')\n",
    "plt.xlabel('False Positive Rate')"
   ]
  },
  {
   "cell_type": "code",
   "execution_count": null,
   "metadata": {
    "collapsed": false
   },
   "outputs": [],
   "source": [
    "estimators = [10,100,300,600,800]\n",
    "for i in range(len(estimators)):\n",
    "    forest = RandomForestClassifier(n_estimators=estimators[i], n_jobs=4,class_weight = \"balanced\")\n",
    "    forest = forest.fit(X_train,y_train.values.ravel())\n",
    "    result = forest.predict(X_test)\n",
    "    output = pd.DataFrame( data={\"predicted\":result,\"actual\":y_test.values.ravel()} )\n",
    "    print (\"accuracy score: \", accuracy_score(y_test.values,result))"
   ]
  },
  {
   "cell_type": "markdown",
   "metadata": {},
   "source": [
    "Logistic Regression"
   ]
  },
  {
   "cell_type": "code",
   "execution_count": 23,
   "metadata": {
    "collapsed": false
   },
   "outputs": [
    {
     "data": {
      "text/html": [
       "<div>\n",
       "<table border=\"1\" class=\"dataframe\">\n",
       "  <thead>\n",
       "    <tr style=\"text-align: right;\">\n",
       "      <th></th>\n",
       "      <th>actual</th>\n",
       "      <th>predicted</th>\n",
       "    </tr>\n",
       "  </thead>\n",
       "  <tbody>\n",
       "    <tr>\n",
       "      <th>0</th>\n",
       "      <td>2</td>\n",
       "      <td>1</td>\n",
       "    </tr>\n",
       "    <tr>\n",
       "      <th>1</th>\n",
       "      <td>1</td>\n",
       "      <td>1</td>\n",
       "    </tr>\n",
       "    <tr>\n",
       "      <th>2</th>\n",
       "      <td>1</td>\n",
       "      <td>1</td>\n",
       "    </tr>\n",
       "    <tr>\n",
       "      <th>3</th>\n",
       "      <td>2</td>\n",
       "      <td>1</td>\n",
       "    </tr>\n",
       "    <tr>\n",
       "      <th>4</th>\n",
       "      <td>1</td>\n",
       "      <td>1</td>\n",
       "    </tr>\n",
       "  </tbody>\n",
       "</table>\n",
       "</div>"
      ],
      "text/plain": [
       "   actual  predicted\n",
       "0       2          1\n",
       "1       1          1\n",
       "2       1          1\n",
       "3       2          1\n",
       "4       1          1"
      ]
     },
     "execution_count": 23,
     "metadata": {},
     "output_type": "execute_result"
    }
   ],
   "source": [
    "logistic = LogisticRegression()\n",
    "logistic = logistic.fit(X_train,y_train.values.ravel())\n",
    "log_result = logistic.predict(X_test)\n",
    "log_output = pd.DataFrame( data={\"predicted\":log_result,\"actual\":y_test.values.ravel()} )\n",
    "log_output.head()"
   ]
  },
  {
   "cell_type": "code",
   "execution_count": 24,
   "metadata": {
    "collapsed": false
   },
   "outputs": [
    {
     "name": "stdout",
     "output_type": "stream",
     "text": [
      "accuracy_score:  0.74\n",
      "             precision    recall  f1-score   support\n",
      "\n",
      "       Good       0.78      0.90      0.83       143\n",
      "        Bad       0.57      0.35      0.43        57\n",
      "\n",
      "avg / total       0.72      0.74      0.72       200\n",
      "\n"
     ]
    }
   ],
   "source": [
    "print (\"accuracy_score: \", accuracy_score(y_test.values,log_result))\n",
    "print(classification_report(y_test.values,log_result, target_names=['Good','Bad']))"
   ]
  },
  {
   "cell_type": "markdown",
   "metadata": {},
   "source": [
    "Naive Bayes"
   ]
  },
  {
   "cell_type": "code",
   "execution_count": null,
   "metadata": {
    "collapsed": false
   },
   "outputs": [],
   "source": [
    "naive = GaussianNB()\n",
    "naive = naive.fit(X_train,y_train.values.ravel())\n",
    "naive_result = naive.predict(X_test)\n",
    "naive_output = pd.DataFrame( data={\"predicted\":naive_result,\"actual\":y_test.values.ravel()} )\n",
    "naive_output.head()"
   ]
  },
  {
   "cell_type": "code",
   "execution_count": null,
   "metadata": {
    "collapsed": false
   },
   "outputs": [],
   "source": [
    "print (\"accuracy score: \", accuracy_score(y_test.values,naive_result))\n",
    "print(classification_report(y_test.values,naive_result, target_names=['Good','Bad']))"
   ]
  },
  {
   "cell_type": "markdown",
   "metadata": {},
   "source": [
    "k-Nearest Neighbor"
   ]
  },
  {
   "cell_type": "code",
   "execution_count": null,
   "metadata": {
    "collapsed": false
   },
   "outputs": [],
   "source": [
    "from sklearn.neighbors import KNeighborsClassifier\n",
    "\n",
    "knn = KNeighborsClassifier()\n",
    "knn = knn.fit(X_train,y_train.values.ravel())\n",
    "knn_result = knn.predict(X_test)\n",
    "knn_output = pd.DataFrame( data={\"predicted\":knn_result,\"actual\":y_test.values.ravel()} )\n",
    "knn_output.head()"
   ]
  },
  {
   "cell_type": "code",
   "execution_count": null,
   "metadata": {
    "collapsed": false
   },
   "outputs": [],
   "source": [
    "print (\"accuracy_score: \", accuracy_score(y_test.values,knn_result))\n",
    "print(classification_report(y_test.values,knn_result, target_names=['Good','Bad']))"
   ]
  },
  {
   "cell_type": "markdown",
   "metadata": {},
   "source": [
    "Support Vector Machines"
   ]
  },
  {
   "cell_type": "code",
   "execution_count": 25,
   "metadata": {
    "collapsed": false
   },
   "outputs": [
    {
     "data": {
      "text/html": [
       "<div>\n",
       "<table border=\"1\" class=\"dataframe\">\n",
       "  <thead>\n",
       "    <tr style=\"text-align: right;\">\n",
       "      <th></th>\n",
       "      <th>actual</th>\n",
       "      <th>predicted</th>\n",
       "    </tr>\n",
       "  </thead>\n",
       "  <tbody>\n",
       "    <tr>\n",
       "      <th>0</th>\n",
       "      <td>2</td>\n",
       "      <td>1</td>\n",
       "    </tr>\n",
       "    <tr>\n",
       "      <th>1</th>\n",
       "      <td>1</td>\n",
       "      <td>1</td>\n",
       "    </tr>\n",
       "    <tr>\n",
       "      <th>2</th>\n",
       "      <td>1</td>\n",
       "      <td>1</td>\n",
       "    </tr>\n",
       "    <tr>\n",
       "      <th>3</th>\n",
       "      <td>2</td>\n",
       "      <td>1</td>\n",
       "    </tr>\n",
       "    <tr>\n",
       "      <th>4</th>\n",
       "      <td>1</td>\n",
       "      <td>1</td>\n",
       "    </tr>\n",
       "  </tbody>\n",
       "</table>\n",
       "</div>"
      ],
      "text/plain": [
       "   actual  predicted\n",
       "0       2          1\n",
       "1       1          1\n",
       "2       1          1\n",
       "3       2          1\n",
       "4       1          1"
      ]
     },
     "execution_count": 25,
     "metadata": {},
     "output_type": "execute_result"
    }
   ],
   "source": [
    "from sklearn.svm import SVC\n",
    "\n",
    "svm = SVC()\n",
    "svm = svm.fit(X_train,y_train.values.ravel())\n",
    "svm_result = svm.predict(X_test)\n",
    "svm_output = pd.DataFrame( data={\"predicted\":svm_result,\"actual\":y_test.values.ravel()} )\n",
    "svm_output.head()"
   ]
  },
  {
   "cell_type": "code",
   "execution_count": 26,
   "metadata": {
    "collapsed": false
   },
   "outputs": [
    {
     "name": "stdout",
     "output_type": "stream",
     "text": [
      "accuracy_score:  0.715\n",
      "             precision    recall  f1-score   support\n",
      "\n",
      "       Good       0.76      0.95      0.85       143\n",
      "        Bad       0.68      0.26      0.38        57\n",
      "\n",
      "avg / total       0.74      0.76      0.71       200\n",
      "\n"
     ]
    }
   ],
   "source": [
    "print (\"accuracy_score: \", accuracy_score(y_test.values,svm_result))\n",
    "print(classification_report(y_test.values,result, target_names=['Good','Bad']))"
   ]
  },
  {
   "cell_type": "code",
   "execution_count": null,
   "metadata": {
    "collapsed": false
   },
   "outputs": [],
   "source": [
    "chk = pd.DataFrame([[2, 2, 2, 'a'], [4, 4, 4, 'b'],[1,1,1,'a'], [3,3,3,'b']],columns = ['a','b','c','d'])\n",
    "ab = pd.DataFrame([[5, 5, 5]],columns = ['a','b','c'])"
   ]
  },
  {
   "cell_type": "code",
   "execution_count": null,
   "metadata": {
    "collapsed": true
   },
   "outputs": [],
   "source": [
    "import math\n",
    "import operator\n",
    "def euclidean_distance(data1,data2):\n",
    "    result = 0.0\n",
    "    for val in range(len(data2)):\n",
    "        result += (data1[val]-data2[val])**2\n",
    "    return math.sqrt(result)"
   ]
  },
  {
   "cell_type": "code",
   "execution_count": null,
   "metadata": {
    "collapsed": false
   },
   "outputs": [],
   "source": [
    "def knn(train,test,k):\n",
    "    dist,neighbors = [],[]\n",
    "    for a,c in train.iterrows():\n",
    "        distance = euclidean_distance(c,test)\n",
    "        dist.append((c,distance))\n",
    "        dist.sort(key=operator.itemgetter(1))\n",
    "    for i in range(k):\n",
    "        neighbors.append(dist[i][0])\n",
    "    return neighbors  "
   ]
  },
  {
   "cell_type": "code",
   "execution_count": null,
   "metadata": {
    "collapsed": false
   },
   "outputs": [],
   "source": [
    "def majorityVote(neighbors):\n",
    "    vote = {}\n",
    "    for i in range(len(neighbors)):\n",
    "        lst = neighbors[i][-1]\n",
    "        if lst in vote:\n",
    "            vote[lst]+=1\n",
    "        else:\n",
    "            vote[lst]=1\n",
    "    majority = max(vote.items(), key=operator.itemgetter(1))[0]\n",
    "    return majority"
   ]
  },
  {
   "cell_type": "code",
   "execution_count": null,
   "metadata": {
    "collapsed": true
   },
   "outputs": [],
   "source": [
    "train = pd.concat([X_train, y_train], axis=1)"
   ]
  },
  {
   "cell_type": "code",
   "execution_count": null,
   "metadata": {
    "collapsed": false
   },
   "outputs": [],
   "source": [
    "predictions = []\n",
    "for i,c in X_test.iterrows():\n",
    "    neighbors = knn(train,c,5)\n",
    "    responses = majorityVote(neighbors)\n",
    "    predictions.append(responses)\n",
    "  "
   ]
  },
  {
   "cell_type": "code",
   "execution_count": null,
   "metadata": {
    "collapsed": false
   },
   "outputs": [],
   "source": [
    "mine_knn = pd.DataFrame( data={\"predicted\":predictions,\"actual\":y_test.values.ravel()} ) \n",
    "#print (\"accuracy_score: \", accuracy_score(y_test.values,mine_knn))"
   ]
  },
  {
   "cell_type": "code",
   "execution_count": null,
   "metadata": {
    "collapsed": false
   },
   "outputs": [],
   "source": [
    "print (\"accuracy_score: \", accuracy_score(mine_knn['actual'],mine_knn['predicted']))"
   ]
  },
  {
   "cell_type": "code",
   "execution_count": null,
   "metadata": {
    "collapsed": true
   },
   "outputs": [],
   "source": []
  },
  {
   "cell_type": "code",
   "execution_count": null,
   "metadata": {
    "collapsed": true
   },
   "outputs": [],
   "source": []
  },
  {
   "cell_type": "code",
   "execution_count": null,
   "metadata": {
    "collapsed": false
   },
   "outputs": [],
   "source": [
    "crx = pd.read_csv('crx.data',header=None,sep = ',')\n",
    "cols = ['A1','A2','A3','A4','A5','A6','A7','A8','A9','A10','A11','A12','A13','A14','A15']\n",
    "classlabel = ['A16']\n"
   ]
  },
  {
   "cell_type": "code",
   "execution_count": null,
   "metadata": {
    "collapsed": false
   },
   "outputs": [],
   "source": [
    "crx[15].value_counts()"
   ]
  },
  {
   "cell_type": "code",
   "execution_count": null,
   "metadata": {
    "collapsed": false
   },
   "outputs": [],
   "source": [
    "test = X_test[:10]\n",
    "for i,c in test.iterrows():\n",
    "    dist,neighbors = [],[]\n",
    "    for a,b in train.iterrows():\n",
    "        distance = euclidean_distance(b,c)\n",
    "        dist.append((b,distance))\n",
    "    for i in range(5):\n",
    "        neighbors.append(dist[i][0])\n",
    "    vote = {}\n",
    "    for i in range(len(neighbors)):\n",
    "        lst = neighbors[i][-1]\n",
    "        if lst in vote:\n",
    "            vote[lst]+=1\n",
    "        else:\n",
    "            vote[lst]=1\n",
    "    majority = max(vote.items(), key=operator.itemgetter(1))[0]\n",
    "    print(majority)"
   ]
  },
  {
   "cell_type": "code",
   "execution_count": null,
   "metadata": {
    "collapsed": true
   },
   "outputs": [],
   "source": []
  }
 ],
 "metadata": {
  "anaconda-cloud": {},
  "kernelspec": {
   "display_name": "Python [default]",
   "language": "python",
   "name": "python3"
  },
  "language_info": {
   "codemirror_mode": {
    "name": "ipython",
    "version": 3
   },
   "file_extension": ".py",
   "mimetype": "text/x-python",
   "name": "python",
   "nbconvert_exporter": "python",
   "pygments_lexer": "ipython3",
   "version": "3.5.2"
  }
 },
 "nbformat": 4,
 "nbformat_minor": 1
}
